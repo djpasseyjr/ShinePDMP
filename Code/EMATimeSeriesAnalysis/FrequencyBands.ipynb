{
 "cells": [
  {
   "cell_type": "code",
   "execution_count": 1,
   "id": "8cd1bd39-3211-433e-a757-74e721bde109",
   "metadata": {},
   "outputs": [],
   "source": [
    "import pandas as pd\n",
    "import numpy as np\n",
    "from matplotlib import pyplot as plt\n",
    "import matplotlib.dates as mdates\n",
    "import scipy as sp\n",
    "import seaborn as sns\n",
    "from scipy import signal\n",
    "from statsmodels.tsa.stattools import adfuller\n",
    "from IPython.display import Markdown as md\n",
    "import copy"
   ]
  },
  {
   "cell_type": "markdown",
   "id": "cad5254f-aa13-4f58-9bf1-46eef56ef968",
   "metadata": {},
   "source": [
    "# Fourier Histograms for the Individuals Who Drank More Than 4 Times"
   ]
  },
  {
   "cell_type": "code",
   "execution_count": 2,
   "id": "4c40dda5-5f9a-4581-9eac-6b651b177ec9",
   "metadata": {},
   "outputs": [],
   "source": [
    "datafile = \"/Users/djpassey/Data/Muri/SHINE_EMA_Round1_19May2020.csv\"\n",
    "ema = pd.read_csv(datafile, parse_dates=True)\n",
    "# Convert notification time to a datetime object\n",
    "ema['Notification.Time'] = pd.to_datetime(ema['Notification.Time'])\n",
    "# 'Num_Alcohol is our new column containing the drinking data we want to measure. In this notebook\n",
    "# we are interested in 'if' the individual drank or not so we simply set the column equal to \"Had_Alcohol\"\n",
    "# rather than summing up the number of drinks of each type the individual reported\n",
    "ema['Num_Alcohol'] = ema.HadAlcohol"
   ]
  },
  {
   "cell_type": "code",
   "execution_count": 3,
   "id": "faa1d1ff-4aa9-4a60-92bd-06e70db83cff",
   "metadata": {},
   "outputs": [],
   "source": [
    "# Constants for determining if a prompt occured in the morning or evening\n",
    "MORNING = ['FirstMorning', 'Morning'] \n",
    "EVENING = ['Evening']\n",
    "# p-value for this notebook\n",
    "PVAL = 0.01\n",
    "# Notebook color scheme\n",
    "COLORS = [\"salmon\", \"teal\", \"grey\", \"green\"]\n",
    "\n",
    "def drink_sessions(df, prompt=None):\n",
    "    \"\"\" Function for removing data from prompts where drinking was not assessed\n",
    "    \n",
    "        Parameters\n",
    "        ----------\n",
    "        df (pandas Dataframe): ema data\n",
    "        prompt (string): one of `[\"morning\", \"evening\", None]`. Specifies if the \n",
    "        function should return only data from morning or evening prompts. Defaults \n",
    "        to None and therefore returns data from both morning and evening prompts\n",
    "        \n",
    "        Returns\n",
    "        -------\n",
    "        ds (pandas Dataframe): data frame containing only prompts where drinking was \n",
    "        assessed. If `prompt` was not none, the data only contains information from  \n",
    "        either morning or evening prompts. The dataframe is also sorted by notification time\n",
    "    \"\"\"\n",
    "    if prompt is None:\n",
    "        ds = df[df[\"Session.Name\"].isin(MORNING+EVENING)]\n",
    "    if prompt is \"morning\":\n",
    "        ds = df[df[\"Session.Name\"].isin(MORNING)]\n",
    "    if prompt is \"evening\":\n",
    "        ds = df[df[\"Session.Name\"].isin(EVENING)]    \n",
    "    ds.fillna({\"Num_Alcohol\":0, \"HadAlcohol\":0})\n",
    "    ds.sort_values(\"Notification.Time\", inplace=True)\n",
    "    return ds\n",
    "\n",
    "def fourier_transform(t, y):\n",
    "    \"\"\" Take the fourier transform of a signal, rescale and provide a frequency axis\n",
    "        array for easy plotting\n",
    "        \n",
    "        Parameters\n",
    "        ----------\n",
    "        t (array): Evenly spaced time values\n",
    "        y (array): Time series, `y[i]` corresponds to the value of the \n",
    "        time series at time `t[i]`\n",
    "    \"\"\"\n",
    "    total_time = float(t[-1] - t[0])\n",
    "    N = len(y)\n",
    "    xf = np.arange(N)/ (total_time)\n",
    "    yf = sp.fft.fft(y) / N\n",
    "    # Take half of the dfft and multiply by 2 because it is a mirror image\n",
    "    yf = 2*np.abs(yf[:N//2])\n",
    "    xf = xf[:N//2]\n",
    "    return xf, yf\n",
    "\n",
    "def hist_templ(\n",
    "    *data, \n",
    "    xlab=\"Value\", \n",
    "    ylab=\"Frequency\", \n",
    "    title=\"Histogram\", \n",
    "    label=[\"Morning Prompt\", \"Evening Prompt\"],\n",
    "    bins=20,\n",
    "    alpha=0.6\n",
    "):\n",
    "    \"\"\"Histogram template function\"\"\"\n",
    "    for i, x in enumerate(data):\n",
    "        plt.hist(x, bins=bins, color=COLORS[i], alpha=0.6, label=label[i])\n",
    "    plt.legend()\n",
    "    plt.ylabel(ylab)\n",
    "    plt.xlabel(xlab)\n",
    "    p = plt.title(title)\n",
    "    return p"
   ]
  },
  {
   "cell_type": "markdown",
   "id": "ef87766f-093e-4b72-bcf9-ce04b3e1d627",
   "metadata": {},
   "source": [
    "# Extract Mood and Drinking Time Series\n",
    "\n",
    "We separate by morning and evening prompt so that there are 24 hours between each datapoint. The dictionary `processed_data` contains all of the processed data that we study in this notebook. Here is a summary of the entries in the `processed_data` dictionary. (Some of these entries are added later\n",
    "\n",
    "1. `processesed_data[\"id\"]` is a 1D array of id numbers. All of the following arrays are kept in order corresponding to id number.\n",
    "\n",
    "2. `processesed_data[\"drink.morning\"]` is a 2D array where the `i`th row is a drinking time series corresponding to the individual with id number equal to `processesed_data[\"id\"][i]`. Each drinking time series here has 28 entries corresponding to the 28 *morning* prompts.\n",
    "\n",
    "3. `processesed_data[\"drink.evening\"]` is a 2D array where the `i`th row is a drinking time series corresponding to the individual with id number equal to `processesed_data[\"id\"][i]`. Each drinking time series here has 28 entries corresponding to the 28 *evening* prompts.\n",
    "\n",
    "4. `processesed_data[\"mood.morning\"]` is a 2D array where the `i`th row is a positive mood time series corresponding to the individual with id number equal to `processesed_data[\"id\"][i]`. Each mood time series here has 28 entries corresponding to the 28 *morning* prompts.\n",
    "\n",
    "5. `processesed_data[\"mood.evening\"]` is a 2D array where the `i`th row is a positive mood time series corresponding to the individual with id number equal to `processesed_data[\"id\"][i]`. Each mood time series here has 28 entries corresponding to the 28 *morning* prompts.\n",
    "\n",
    "6. `processed_data[\"{mood or drink}.{morning or evening}.ft\"]` For entries 2-5 above, appending `\".ft\"` onto the end of the key (e.g. `\"mood.evening\" -> \"mood.evening.ft\")` produces a 2D array where each row is the fourier transform of the corresponding row in the original time series array. (e.g. `processesed_data[\"mood.evening.ft\"][2, :]` contains the fourier transform of `processesed_data[\"mood.evening\"][2, :]`)\n",
    "\n",
    "7. `processed_data[\"{mood or drink}.{morning or evening}.adfuller\"]` For entries 2-5 above, appending `\".adfuller\"` onto the end of the key (e.g. `\"mood.evening\" -> \"mood.evening.adfuller\")` produces a 1D array where the `i`th entry is a p-value corresponding to an Augmented Dickey-Fuller unit root test (a statistical test for stationarity) applied to the `i`th row of the corresponding time series array. (e.g. `processesed_data[\"mood.evening.ft\"][2]` contains the p-value corresponding to a Augmented Dickey-Fuller test run on `processesed_data[\"mood.evening\"][2, :]`)\n",
    "\n"
   ]
  },
  {
   "cell_type": "code",
   "execution_count": 4,
   "id": "376992ba-8c98-43de-8a48-6c252b54a7ab",
   "metadata": {},
   "outputs": [
    {
     "name": "stderr",
     "output_type": "stream",
     "text": [
      "/usr/local/anaconda3/lib/python3.7/site-packages/ipykernel_launcher.py:32: SettingWithCopyWarning: \n",
      "A value is trying to be set on a copy of a slice from a DataFrame\n",
      "\n",
      "See the caveats in the documentation: https://pandas.pydata.org/pandas-docs/stable/user_guide/indexing.html#returning-a-view-versus-a-copy\n"
     ]
    }
   ],
   "source": [
    "processed_data = {\n",
    "    \"id\" : [],\n",
    "    \"drink.morning\" : [],\n",
    "    \"drink.evening\" : [],\n",
    "    \"mood.morning\" : [],\n",
    "    \"mood.evening\" : []\n",
    "}\n",
    "\n",
    "time_series_keys = [\"drink.morning\", \"drink.evening\", \"mood.morning\", \"mood.evening\"]\n",
    "\n",
    "# Separate morning and evening prompts\n",
    "morn = drink_sessions(ema, prompt=\"morning\")\n",
    "eve = drink_sessions(ema, prompt=\"evening\")"
   ]
  },
  {
   "cell_type": "code",
   "execution_count": 5,
   "id": "469c29d9-67ba-436a-b39b-3c40ae1011ea",
   "metadata": {},
   "outputs": [],
   "source": [
    "# Participants to exclude\n",
    "EXCLUDE_ID = [52927]\n",
    "\n",
    "# Minimum number of times an individual must drink\n",
    "DRINK_MIN = 4\n",
    "\n",
    "# Drinking and Mood data tuples\n",
    "drinkmorn = tuple()\n",
    "drinkeve = tuple()\n",
    "moodmorn = tuple()\n",
    "moodeve = tuple()\n",
    "\n",
    "for idnum in ema.ID.unique():\n",
    "    if idnum not in EXCLUDE_ID:\n",
    "        # Look at subset of data corresponding to the current ID\n",
    "        morn_id = morn[morn.ID == idnum]\n",
    "        eve_id = eve[eve.ID == idnum]\n",
    "        morning_drink = morn_id[\"Num_Alcohol\"].fillna(0).values\n",
    "        if sum(morning_drink) > DRINK_MIN:\n",
    "            # add ID numbers\n",
    "            processed_data[\"id\"].append(idnum)\n",
    "            # Extract morning and evening drinks time series and append it to tuple\n",
    "            drinkmorn += (morn_id[\"Num_Alcohol\"].fillna(0).values,)\n",
    "            drinkeve += (eve_id[\"Num_Alcohol\"].fillna(0).values,)\n",
    "            # Extract morning and eveing positive mood time series\n",
    "            morn_m = morn_id.PositiveMood\n",
    "            eve_m = eve_id.PositiveMood\n",
    "            # Fill nans with the mean and append to tuple\n",
    "            moodmorn += (morn_m.fillna(np.mean(morn_m)).values,)\n",
    "            moodeve += (eve_m.fillna(np.mean(eve_m)).values,)\n",
    "    \n",
    "# Turn tuple of timeseries into arrays\n",
    "processed_data[\"drink.morning\"] = np.vstack(drinkmorn)\n",
    "processed_data[\"drink.evening\"] = np.vstack(drinkeve)\n",
    "processed_data[\"mood.morning\"] = np.vstack(moodmorn)\n",
    "processed_data[\"mood.evening\"] = np.vstack(moodeve)"
   ]
  },
  {
   "cell_type": "code",
   "execution_count": 6,
   "id": "e17baa14-666b-47b7-8525-94a1421e417c",
   "metadata": {},
   "outputs": [
    {
     "name": "stdout",
     "output_type": "stream",
     "text": [
      "53 Individuals drank more than 4 times during the study\n"
     ]
    }
   ],
   "source": [
    "n = processed_data[\"drink.morning\"].shape[0]\n",
    "print(f\"{n} Individuals drank more than {DRINK_MIN} times during the study\")"
   ]
  },
  {
   "cell_type": "markdown",
   "id": "3d844e12-d769-429f-96ac-40dd94270eb9",
   "metadata": {},
   "source": [
    "### Fourier Transform"
   ]
  },
  {
   "cell_type": "code",
   "execution_count": 7,
   "id": "01f5d8f1-63cb-4cf2-a5fd-55daa5d55545",
   "metadata": {},
   "outputs": [],
   "source": [
    "# Take fourier transform of each time series type\n",
    "for key in time_series_keys:\n",
    "    Yf = tuple()\n",
    "    for ts in processed_data[key]:\n",
    "        x = np.arange(28)\n",
    "        xf, yf = fourier_transform(x, ts)\n",
    "        Yf += (yf,)\n",
    "    processed_data[key + \".ft\"] = np.vstack(Yf)"
   ]
  },
  {
   "cell_type": "markdown",
   "id": "35232c31-c286-4ef0-9711-8cea75be7ecb",
   "metadata": {},
   "source": [
    "### Stationarity Test"
   ]
  },
  {
   "cell_type": "code",
   "execution_count": 8,
   "id": "4738bac4-2e2d-441c-9109-39bbee573ab0",
   "metadata": {},
   "outputs": [],
   "source": [
    "with np.errstate(divide='ignore'):\n",
    "    for key in time_series_keys:\n",
    "        ts = processed_data[key]\n",
    "        pvals = [adfuller(x)[1] for x in ts]\n",
    "        processed_data[key + \".adfuller\"] = np.array(pvals)"
   ]
  },
  {
   "cell_type": "markdown",
   "id": "bce34ca5-6a8f-45ee-a312-97369e47b441",
   "metadata": {},
   "source": [
    "### Stationarity Table"
   ]
  },
  {
   "cell_type": "code",
   "execution_count": 11,
   "id": "ab943284-8d70-4960-826f-0bb11162d2f9",
   "metadata": {},
   "outputs": [
    {
     "data": {
      "text/markdown": [
       "#### Morning Mood and Drinking Stationarity\n",
       "\n",
       "|  | Stationary Drinking | Non-Stationary Drinking | Totals |\n",
       "| --- | --- | --- | --- |\n",
       "| **Stationary Mood**|18 |11 | 29\n",
       "| **Non Stationary Mood**| 15| 9| 24\n",
       "| **Totals**| 33| 20 | 53\n",
       "\n"
      ],
      "text/plain": [
       "<IPython.core.display.Markdown object>"
      ]
     },
     "execution_count": 11,
     "metadata": {},
     "output_type": "execute_result"
    }
   ],
   "source": [
    "pval = 0.01\n",
    "# Remove non drinkers\n",
    "drink_station = processed_data[\"drink.morning.adfuller\"]\n",
    "mood_station = processed_data[\"mood.morning.adfuller\"]\n",
    "\n",
    "sta_mood_sta_drink = sum((drink_station < pval) * (mood_station < pval) )\n",
    "sta_mood_not_drink = sum((drink_station > pval) * (mood_station < pval) )\n",
    "not_mood_sta_drink = sum((drink_station < pval) * (mood_station > pval) )\n",
    "not_mood_not_drink = sum((drink_station > pval) * (mood_station > pval) )\n",
    "\n",
    "stationarity_table = f\"\"\"#### Morning Mood and Drinking Stationarity\n",
    "\n",
    "|  | Stationary Drinking | Non-Stationary Drinking | Totals |\n",
    "| --- | --- | --- | --- |\n",
    "| **Stationary Mood**|{sta_mood_sta_drink} |{sta_mood_not_drink} | {sta_mood_sta_drink + sta_mood_not_drink}\n",
    "| **Non Stationary Mood**| {not_mood_sta_drink}| {not_mood_not_drink}| {not_mood_sta_drink + not_mood_not_drink}\n",
    "| **Totals**| {sta_mood_sta_drink + not_mood_sta_drink}| {sta_mood_not_drink + not_mood_not_drink} | {sta_mood_sta_drink + sta_mood_not_drink + not_mood_sta_drink + not_mood_not_drink}\n",
    "\n",
    "\"\"\"\n",
    "md(stationarity_table)"
   ]
  },
  {
   "cell_type": "code",
   "execution_count": 22,
   "id": "219072a0-5294-4c60-8ff7-ea28768db4d6",
   "metadata": {},
   "outputs": [
    {
     "name": "stderr",
     "output_type": "stream",
     "text": [
      "/usr/local/anaconda3/lib/python3.7/site-packages/ipykernel_launcher.py:32: SettingWithCopyWarning: \n",
      "A value is trying to be set on a copy of a slice from a DataFrame\n",
      "\n",
      "See the caveats in the documentation: https://pandas.pydata.org/pandas-docs/stable/user_guide/indexing.html#returning-a-view-versus-a-copy\n"
     ]
    }
   ],
   "source": [
    "ids = processed_data[\"id\"]\n",
    "ema_drink_gtr_4 = drink_sessions(ema)\n",
    "ema_drink_gtr_4 = ema_drink_gtr_4[ema_drink_gtr_4.ID.isin(ids)]"
   ]
  },
  {
   "cell_type": "code",
   "execution_count": 24,
   "id": "735a0181-196f-4932-bd03-b2f0351be166",
   "metadata": {},
   "outputs": [
    {
     "data": {
      "text/plain": [
       "Condition\n",
       "mindful        1176\n",
       "control        1008\n",
       "perspective     784\n",
       "dtype: int64"
      ]
     },
     "execution_count": 24,
     "metadata": {},
     "output_type": "execute_result"
    }
   ],
   "source": [
    "ema_drink_gtr_4.value_counts(\"Condition\")"
   ]
  },
  {
   "cell_type": "code",
   "execution_count": 26,
   "id": "de2c1ac3-b8d5-4219-a417-10f7d6df57ec",
   "metadata": {},
   "outputs": [
    {
     "data": {
      "text/plain": [
       "['SHINEID',\n",
       " 'ID',\n",
       " 'Notification.Time',\n",
       " 'Session.Name',\n",
       " 'Notification.No',\n",
       " 'LifePak.Download.No',\n",
       " 'Responded',\n",
       " 'Completed.Session',\n",
       " 'Session.Instance',\n",
       " 'Session.Instance.Response.Lapse',\n",
       " 'Session.Length',\n",
       " 'Reminders.Delivered',\n",
       " 'PositiveMood',\n",
       " 'NegativeMood',\n",
       " 'HadAlcohol',\n",
       " 'Alcohol_Alone',\n",
       " 'Alcohol_Friend',\n",
       " 'Alcohol_Coworker',\n",
       " 'Alcohol_Family',\n",
       " 'Alcohol_Stranger',\n",
       " 'Alcohol_SigOther',\n",
       " 'Num_Beer',\n",
       " 'Num_Wine',\n",
       " 'Num_Liquor',\n",
       " 'Alcohol_Size_None',\n",
       " 'Alcohol_Size_One',\n",
       " 'Alcohol_Size_Small',\n",
       " 'Alcohol_Size_Large',\n",
       " 'Excer_Vigor',\n",
       " 'Excer_Moder',\n",
       " 'Excer_Mild',\n",
       " 'Num_Caffeine',\n",
       " 'Num_Water',\n",
       " 'Craving_Alc',\n",
       " 'Converse_Alc',\n",
       " 'Converse_Binge',\n",
       " 'Converse_Drunk',\n",
       " 'Converse_Alc_None',\n",
       " 'Alc_Converse_Valence',\n",
       " 'Binge_Converse_Valence',\n",
       " 'Drunk_Converse_Valence',\n",
       " 'Converse_Water',\n",
       " 'Converse_Excer',\n",
       " 'Converse_Caffeine',\n",
       " 'Converse_None',\n",
       " 'EmoReg_None',\n",
       " 'EmoReg_Reappraisal',\n",
       " 'EmoReg_Suppression',\n",
       " 'EmoReg_Avoidance',\n",
       " 'EmoReg_Acceptance',\n",
       " 'EmoReg_SocialSupport',\n",
       " 'EmoReg_Distract',\n",
       " 'EmoReg_ProblemSolve',\n",
       " 'EmoReg_Rumination',\n",
       " 'EmoReg_Other',\n",
       " 'Alc_Media_Positive',\n",
       " 'Alc_Media_Negative',\n",
       " 'Alc_Media_None',\n",
       " 'Alc_Encounter',\n",
       " 'Alc_React_Natural',\n",
       " 'Alc_React_Mindful',\n",
       " 'Alc_React_Perspective',\n",
       " 'EndQNatura',\n",
       " 'EndQImagin',\n",
       " 'EndQMindfu',\n",
       " 'Prompt_MINDFUL',\n",
       " 'Prompt_PERSPECTIVE',\n",
       " 'Prompt_NATURAL',\n",
       " 'EmoReg_Alcohol',\n",
       " 'DayOfWeek',\n",
       " 'Soc_EmoReg_None',\n",
       " 'Soc_EmoReg_Reappraisal',\n",
       " 'Soc_EmoReg_Suppression',\n",
       " 'Soc_EmoReg_Avoidance',\n",
       " 'Soc_EmoReg_Acceptance',\n",
       " 'Soc_EmoReg_SocialSupport',\n",
       " 'Soc_EmoReg_Distract',\n",
       " 'Soc_EmoReg_ProblemSolve',\n",
       " 'Soc_EmoReg_Rumination',\n",
       " 'Soc_EmoReg_Alcohol',\n",
       " 'Soc_EmoReg_Other',\n",
       " 'Airport_Peer',\n",
       " 'Close_Peer',\n",
       " 'EmoSit_CurrentEvents',\n",
       " 'EmoSit_Entertainment',\n",
       " 'EmoSit_Finances',\n",
       " 'EmoSit_Health',\n",
       " 'EmoSit_Other',\n",
       " 'EmoSit_OtherPeople',\n",
       " 'EmoSit_StudyGroup',\n",
       " 'EmoSit_Travel',\n",
       " 'EmoSit_WorkSchool',\n",
       " 'Homework_Peer',\n",
       " 'Like_Peer',\n",
       " 'Move_Peer',\n",
       " 'Soc_EmoSit_CurrentEvents',\n",
       " 'Soc_EmoSit_Entertainment',\n",
       " 'Soc_EmoSit_Finances',\n",
       " 'Soc_EmoSit_Health',\n",
       " 'Soc_EmoSit_Other',\n",
       " 'Soc_EmoSit_OtherPeople',\n",
       " 'Soc_EmoSit_StudyGroup',\n",
       " 'Soc_EmoSit_Travel',\n",
       " 'Soc_EmoSit_WorkSchool',\n",
       " 'GROUP.ID',\n",
       " 'Condition',\n",
       " 'Start.Date',\n",
       " 'Lifepak',\n",
       " 'Num_Alcohol']"
      ]
     },
     "execution_count": 26,
     "metadata": {},
     "output_type": "execute_result"
    }
   ],
   "source": [
    "\n",
    "for d in processed_data[\"drink.morning\"]:\n",
    "    plt.plot(d, \"o\")\n",
    "plt.xlabel(\"Day\")"
   ]
  },
  {
   "cell_type": "code",
   "execution_count": null,
   "id": "95a9bc4e-3538-433d-9b4b-606799ee8596",
   "metadata": {},
   "outputs": [],
   "source": []
  }
 ],
 "metadata": {
  "kernelspec": {
   "display_name": "Python 3 (ipykernel)",
   "language": "python",
   "name": "python3"
  },
  "language_info": {
   "codemirror_mode": {
    "name": "ipython",
    "version": 3
   },
   "file_extension": ".py",
   "mimetype": "text/x-python",
   "name": "python",
   "nbconvert_exporter": "python",
   "pygments_lexer": "ipython3",
   "version": "3.7.10"
  }
 },
 "nbformat": 4,
 "nbformat_minor": 5
}
