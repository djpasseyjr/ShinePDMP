{
 "cells": [
  {
   "cell_type": "code",
   "execution_count": 5,
   "id": "b7f6fa72",
   "metadata": {},
   "outputs": [],
   "source": [
    "using Plots"
   ]
  },
  {
   "cell_type": "code",
   "execution_count": 22,
   "id": "98d04715",
   "metadata": {},
   "outputs": [
    {
     "data": {
      "text/plain": [
       "Float64"
      ]
     },
     "execution_count": 22,
     "metadata": {},
     "output_type": "execute_result"
    }
   ],
   "source": [
    "x = collect(1:20)\n",
    "\n",
    "d = 1.\n",
    "\n",
    "typeof(d)"
   ]
  },
  {
   "cell_type": "code",
   "execution_count": 20,
   "id": "60036ad8",
   "metadata": {},
   "outputs": [
    {
     "data": {
      "image/svg+xml": [
       "<?xml version=\"1.0\" encoding=\"utf-8\"?>\n",
       "<svg xmlns=\"http://www.w3.org/2000/svg\" xmlns:xlink=\"http://www.w3.org/1999/xlink\" width=\"600\" height=\"400\" viewBox=\"0 0 2400 1600\">\n",
       "<defs>\n",
       "  <clipPath id=\"clip630\">\n",
       "    <rect x=\"0\" y=\"0\" width=\"2400\" height=\"1600\"/>\n",
       "  </clipPath>\n",
       "</defs>\n",
       "<path clip-path=\"url(#clip630)\" d=\"\n",
       "M0 1600 L2400 1600 L2400 0 L0 0  Z\n",
       "  \" fill=\"#ffffff\" fill-rule=\"evenodd\" fill-opacity=\"1\"/>\n",
       "<defs>\n",
       "  <clipPath id=\"clip631\">\n",
       "    <rect x=\"480\" y=\"0\" width=\"1681\" height=\"1600\"/>\n",
       "  </clipPath>\n",
       "</defs>\n",
       "<path clip-path=\"url(#clip630)\" d=\"\n",
       "M140.696 1486.45 L2352.76 1486.45 L2352.76 47.2441 L140.696 47.2441  Z\n",
       "  \" fill=\"#ffffff\" fill-rule=\"evenodd\" fill-opacity=\"1\"/>\n",
       "<defs>\n",
       "  <clipPath id=\"clip632\">\n",
       "    <rect x=\"140\" y=\"47\" width=\"2213\" height=\"1440\"/>\n",
       "  </clipPath>\n",
       "</defs>\n",
       "<polyline clip-path=\"url(#clip632)\" style=\"stroke:#000000; stroke-linecap:butt; stroke-linejoin:round; stroke-width:2; stroke-opacity:0.1; fill:none\" points=\"\n",
       "  642.638,1486.45 642.638,47.2441 \n",
       "  \"/>\n",
       "<polyline clip-path=\"url(#clip632)\" style=\"stroke:#000000; stroke-linecap:butt; stroke-linejoin:round; stroke-width:2; stroke-opacity:0.1; fill:none\" points=\"\n",
       "  1191.81,1486.45 1191.81,47.2441 \n",
       "  \"/>\n",
       "<polyline clip-path=\"url(#clip632)\" style=\"stroke:#000000; stroke-linecap:butt; stroke-linejoin:round; stroke-width:2; stroke-opacity:0.1; fill:none\" points=\"\n",
       "  1740.98,1486.45 1740.98,47.2441 \n",
       "  \"/>\n",
       "<polyline clip-path=\"url(#clip632)\" style=\"stroke:#000000; stroke-linecap:butt; stroke-linejoin:round; stroke-width:2; stroke-opacity:0.1; fill:none\" points=\"\n",
       "  2290.15,1486.45 2290.15,47.2441 \n",
       "  \"/>\n",
       "<polyline clip-path=\"url(#clip630)\" style=\"stroke:#000000; stroke-linecap:butt; stroke-linejoin:round; stroke-width:4; stroke-opacity:1; fill:none\" points=\"\n",
       "  140.696,1486.45 2352.76,1486.45 \n",
       "  \"/>\n",
       "<polyline clip-path=\"url(#clip630)\" style=\"stroke:#000000; stroke-linecap:butt; stroke-linejoin:round; stroke-width:4; stroke-opacity:1; fill:none\" points=\"\n",
       "  642.638,1486.45 642.638,1467.55 \n",
       "  \"/>\n",
       "<polyline clip-path=\"url(#clip630)\" style=\"stroke:#000000; stroke-linecap:butt; stroke-linejoin:round; stroke-width:4; stroke-opacity:1; fill:none\" points=\"\n",
       "  1191.81,1486.45 1191.81,1467.55 \n",
       "  \"/>\n",
       "<polyline clip-path=\"url(#clip630)\" style=\"stroke:#000000; stroke-linecap:butt; stroke-linejoin:round; stroke-width:4; stroke-opacity:1; fill:none\" points=\"\n",
       "  1740.98,1486.45 1740.98,1467.55 \n",
       "  \"/>\n",
       "<polyline clip-path=\"url(#clip630)\" style=\"stroke:#000000; stroke-linecap:butt; stroke-linejoin:round; stroke-width:4; stroke-opacity:1; fill:none\" points=\"\n",
       "  2290.15,1486.45 2290.15,1467.55 \n",
       "  \"/>\n",
       "<path clip-path=\"url(#clip630)\" d=\"M632.916 1512.56 L651.272 1512.56 L651.272 1516.5 L637.198 1516.5 L637.198 1524.97 Q638.216 1524.62 639.235 1524.46 Q640.253 1524.27 641.272 1524.27 Q647.059 1524.27 650.439 1527.44 Q653.818 1530.62 653.818 1536.03 Q653.818 1541.61 650.346 1544.71 Q646.874 1547.79 640.554 1547.79 Q638.379 1547.79 636.11 1547.42 Q633.865 1547.05 631.457 1546.31 L631.457 1541.61 Q633.541 1542.74 635.763 1543.3 Q637.985 1543.86 640.462 1543.86 Q644.466 1543.86 646.804 1541.75 Q649.142 1539.64 649.142 1536.03 Q649.142 1532.42 646.804 1530.31 Q644.466 1528.21 640.462 1528.21 Q638.587 1528.21 636.712 1528.62 Q634.86 1529.04 632.916 1529.92 L632.916 1512.56 Z\" fill=\"#000000\" fill-rule=\"evenodd\" fill-opacity=\"1\" /><path clip-path=\"url(#clip630)\" d=\"M1166.5 1543.18 L1174.14 1543.18 L1174.14 1516.82 L1165.82 1518.49 L1165.82 1514.23 L1174.09 1512.56 L1178.76 1512.56 L1178.76 1543.18 L1186.4 1543.18 L1186.4 1547.12 L1166.5 1547.12 L1166.5 1543.18 Z\" fill=\"#000000\" fill-rule=\"evenodd\" fill-opacity=\"1\" /><path clip-path=\"url(#clip630)\" d=\"M1205.85 1515.64 Q1202.24 1515.64 1200.41 1519.2 Q1198.6 1522.75 1198.6 1529.87 Q1198.6 1536.98 1200.41 1540.55 Q1202.24 1544.09 1205.85 1544.09 Q1209.48 1544.09 1211.29 1540.55 Q1213.12 1536.98 1213.12 1529.87 Q1213.12 1522.75 1211.29 1519.2 Q1209.48 1515.64 1205.85 1515.64 M1205.85 1511.93 Q1211.66 1511.93 1214.71 1516.54 Q1217.79 1521.12 1217.79 1529.87 Q1217.79 1538.6 1214.71 1543.21 Q1211.66 1547.79 1205.85 1547.79 Q1200.04 1547.79 1196.96 1543.21 Q1193.9 1538.6 1193.9 1529.87 Q1193.9 1521.12 1196.96 1516.54 Q1200.04 1511.93 1205.85 1511.93 Z\" fill=\"#000000\" fill-rule=\"evenodd\" fill-opacity=\"1\" /><path clip-path=\"url(#clip630)\" d=\"M1716.16 1543.18 L1723.8 1543.18 L1723.8 1516.82 L1715.49 1518.49 L1715.49 1514.23 L1723.76 1512.56 L1728.43 1512.56 L1728.43 1543.18 L1736.07 1543.18 L1736.07 1547.12 L1716.16 1547.12 L1716.16 1543.18 Z\" fill=\"#000000\" fill-rule=\"evenodd\" fill-opacity=\"1\" /><path clip-path=\"url(#clip630)\" d=\"M1745.56 1512.56 L1763.92 1512.56 L1763.92 1516.5 L1749.85 1516.5 L1749.85 1524.97 Q1750.86 1524.62 1751.88 1524.46 Q1752.9 1524.27 1753.92 1524.27 Q1759.71 1524.27 1763.09 1527.44 Q1766.47 1530.62 1766.47 1536.03 Q1766.47 1541.61 1762.99 1544.71 Q1759.52 1547.79 1753.2 1547.79 Q1751.03 1547.79 1748.76 1547.42 Q1746.51 1547.05 1744.1 1546.31 L1744.1 1541.61 Q1746.19 1542.74 1748.41 1543.3 Q1750.63 1543.86 1753.11 1543.86 Q1757.11 1543.86 1759.45 1541.75 Q1761.79 1539.64 1761.79 1536.03 Q1761.79 1532.42 1759.45 1530.31 Q1757.11 1528.21 1753.11 1528.21 Q1751.23 1528.21 1749.36 1528.62 Q1747.51 1529.04 1745.56 1529.92 L1745.56 1512.56 Z\" fill=\"#000000\" fill-rule=\"evenodd\" fill-opacity=\"1\" /><path clip-path=\"url(#clip630)\" d=\"M2268.92 1543.18 L2285.24 1543.18 L2285.24 1547.12 L2263.3 1547.12 L2263.3 1543.18 Q2265.96 1540.43 2270.54 1535.8 Q2275.15 1531.15 2276.33 1529.81 Q2278.58 1527.28 2279.46 1525.55 Q2280.36 1523.79 2280.36 1522.1 Q2280.36 1519.34 2278.41 1517.61 Q2276.49 1515.87 2273.39 1515.87 Q2271.19 1515.87 2268.74 1516.63 Q2266.31 1517.4 2263.53 1518.95 L2263.53 1514.23 Q2266.35 1513.09 2268.81 1512.51 Q2271.26 1511.93 2273.3 1511.93 Q2278.67 1511.93 2281.86 1514.62 Q2285.06 1517.31 2285.06 1521.8 Q2285.06 1523.93 2284.25 1525.85 Q2283.46 1527.74 2281.35 1530.34 Q2280.78 1531.01 2277.67 1534.23 Q2274.57 1537.42 2268.92 1543.18 Z\" fill=\"#000000\" fill-rule=\"evenodd\" fill-opacity=\"1\" /><path clip-path=\"url(#clip630)\" d=\"M2305.06 1515.64 Q2301.45 1515.64 2299.62 1519.2 Q2297.81 1522.75 2297.81 1529.87 Q2297.81 1536.98 2299.62 1540.55 Q2301.45 1544.09 2305.06 1544.09 Q2308.69 1544.09 2310.5 1540.55 Q2312.33 1536.98 2312.33 1529.87 Q2312.33 1522.75 2310.5 1519.2 Q2308.69 1515.64 2305.06 1515.64 M2305.06 1511.93 Q2310.87 1511.93 2313.92 1516.54 Q2317 1521.12 2317 1529.87 Q2317 1538.6 2313.92 1543.21 Q2310.87 1547.79 2305.06 1547.79 Q2299.25 1547.79 2296.17 1543.21 Q2293.11 1538.6 2293.11 1529.87 Q2293.11 1521.12 2296.17 1516.54 Q2299.25 1511.93 2305.06 1511.93 Z\" fill=\"#000000\" fill-rule=\"evenodd\" fill-opacity=\"1\" /><polyline clip-path=\"url(#clip632)\" style=\"stroke:#000000; stroke-linecap:butt; stroke-linejoin:round; stroke-width:2; stroke-opacity:0.1; fill:none\" points=\"\n",
       "  140.696,1159.88 2352.76,1159.88 \n",
       "  \"/>\n",
       "<polyline clip-path=\"url(#clip632)\" style=\"stroke:#000000; stroke-linecap:butt; stroke-linejoin:round; stroke-width:2; stroke-opacity:0.1; fill:none\" points=\"\n",
       "  140.696,802.576 2352.76,802.576 \n",
       "  \"/>\n",
       "<polyline clip-path=\"url(#clip632)\" style=\"stroke:#000000; stroke-linecap:butt; stroke-linejoin:round; stroke-width:2; stroke-opacity:0.1; fill:none\" points=\"\n",
       "  140.696,445.276 2352.76,445.276 \n",
       "  \"/>\n",
       "<polyline clip-path=\"url(#clip632)\" style=\"stroke:#000000; stroke-linecap:butt; stroke-linejoin:round; stroke-width:2; stroke-opacity:0.1; fill:none\" points=\"\n",
       "  140.696,87.9763 2352.76,87.9763 \n",
       "  \"/>\n",
       "<polyline clip-path=\"url(#clip630)\" style=\"stroke:#000000; stroke-linecap:butt; stroke-linejoin:round; stroke-width:4; stroke-opacity:1; fill:none\" points=\"\n",
       "  140.696,1486.45 140.696,47.2441 \n",
       "  \"/>\n",
       "<polyline clip-path=\"url(#clip630)\" style=\"stroke:#000000; stroke-linecap:butt; stroke-linejoin:round; stroke-width:4; stroke-opacity:1; fill:none\" points=\"\n",
       "  140.696,1159.88 159.593,1159.88 \n",
       "  \"/>\n",
       "<polyline clip-path=\"url(#clip630)\" style=\"stroke:#000000; stroke-linecap:butt; stroke-linejoin:round; stroke-width:4; stroke-opacity:1; fill:none\" points=\"\n",
       "  140.696,802.576 159.593,802.576 \n",
       "  \"/>\n",
       "<polyline clip-path=\"url(#clip630)\" style=\"stroke:#000000; stroke-linecap:butt; stroke-linejoin:round; stroke-width:4; stroke-opacity:1; fill:none\" points=\"\n",
       "  140.696,445.276 159.593,445.276 \n",
       "  \"/>\n",
       "<polyline clip-path=\"url(#clip630)\" style=\"stroke:#000000; stroke-linecap:butt; stroke-linejoin:round; stroke-width:4; stroke-opacity:1; fill:none\" points=\"\n",
       "  140.696,87.9763 159.593,87.9763 \n",
       "  \"/>\n",
       "<path clip-path=\"url(#clip630)\" d=\"M83.7929 1142.6 L102.149 1142.6 L102.149 1146.53 L88.0753 1146.53 L88.0753 1155 Q89.0938 1154.66 90.1123 1154.49 Q91.1308 1154.31 92.1493 1154.31 Q97.9363 1154.31 101.316 1157.48 Q104.696 1160.65 104.696 1166.07 Q104.696 1171.65 101.223 1174.75 Q97.7511 1177.83 91.4317 1177.83 Q89.2558 1177.83 86.9873 1177.46 Q84.7419 1177.09 82.3346 1176.35 L82.3346 1171.65 Q84.4179 1172.78 86.6401 1173.34 Q88.8623 1173.89 91.3391 1173.89 Q95.3437 1173.89 97.6817 1171.79 Q100.02 1169.68 100.02 1166.07 Q100.02 1162.46 97.6817 1160.35 Q95.3437 1158.24 91.3391 1158.24 Q89.4641 1158.24 87.5892 1158.66 Q85.7373 1159.08 83.7929 1159.96 L83.7929 1142.6 Z\" fill=\"#000000\" fill-rule=\"evenodd\" fill-opacity=\"1\" /><path clip-path=\"url(#clip630)\" d=\"M53.3995 815.921 L61.0384 815.921 L61.0384 789.555 L52.7282 791.222 L52.7282 786.963 L60.9921 785.296 L65.668 785.296 L65.668 815.921 L73.3068 815.921 L73.3068 819.856 L53.3995 819.856 L53.3995 815.921 Z\" fill=\"#000000\" fill-rule=\"evenodd\" fill-opacity=\"1\" /><path clip-path=\"url(#clip630)\" d=\"M92.7512 788.375 Q89.1401 788.375 87.3114 791.939 Q85.5058 795.481 85.5058 802.611 Q85.5058 809.717 87.3114 813.282 Q89.1401 816.824 92.7512 816.824 Q96.3854 816.824 98.1909 813.282 Q100.02 809.717 100.02 802.611 Q100.02 795.481 98.1909 791.939 Q96.3854 788.375 92.7512 788.375 M92.7512 784.671 Q98.5613 784.671 101.617 789.277 Q104.696 793.861 104.696 802.611 Q104.696 811.337 101.617 815.944 Q98.5613 820.527 92.7512 820.527 Q86.941 820.527 83.8623 815.944 Q80.8068 811.337 80.8068 802.611 Q80.8068 793.861 83.8623 789.277 Q86.941 784.671 92.7512 784.671 Z\" fill=\"#000000\" fill-rule=\"evenodd\" fill-opacity=\"1\" /><path clip-path=\"url(#clip630)\" d=\"M54.3949 458.621 L62.0337 458.621 L62.0337 432.255 L53.7236 433.922 L53.7236 429.663 L61.9874 427.996 L66.6633 427.996 L66.6633 458.621 L74.3022 458.621 L74.3022 462.556 L54.3949 462.556 L54.3949 458.621 Z\" fill=\"#000000\" fill-rule=\"evenodd\" fill-opacity=\"1\" /><path clip-path=\"url(#clip630)\" d=\"M83.7929 427.996 L102.149 427.996 L102.149 431.931 L88.0753 431.931 L88.0753 440.403 Q89.0938 440.056 90.1123 439.894 Q91.1308 439.709 92.1493 439.709 Q97.9363 439.709 101.316 442.88 Q104.696 446.052 104.696 451.468 Q104.696 457.047 101.223 460.149 Q97.7511 463.227 91.4317 463.227 Q89.2558 463.227 86.9873 462.857 Q84.7419 462.487 82.3346 461.746 L82.3346 457.047 Q84.4179 458.181 86.6401 458.737 Q88.8623 459.292 91.3391 459.292 Q95.3437 459.292 97.6817 457.186 Q100.02 455.079 100.02 451.468 Q100.02 447.857 97.6817 445.751 Q95.3437 443.644 91.3391 443.644 Q89.4641 443.644 87.5892 444.061 Q85.7373 444.478 83.7929 445.357 L83.7929 427.996 Z\" fill=\"#000000\" fill-rule=\"evenodd\" fill-opacity=\"1\" /><path clip-path=\"url(#clip630)\" d=\"M56.6171 101.321 L72.9365 101.321 L72.9365 105.256 L50.9921 105.256 L50.9921 101.321 Q53.6541 98.5665 58.2375 93.9369 Q62.8439 89.2841 64.0245 87.9416 Q66.2698 85.4184 67.1494 83.6823 Q68.0522 81.9231 68.0522 80.2333 Q68.0522 77.4786 66.1078 75.7425 Q64.1865 74.0064 61.0847 74.0064 Q58.8856 74.0064 56.4319 74.7703 Q54.0014 75.5342 51.2236 77.0851 L51.2236 72.3629 Q54.0477 71.2287 56.5014 70.65 Q58.955 70.0713 60.9921 70.0713 Q66.3624 70.0713 69.5568 72.7565 Q72.7513 75.4416 72.7513 79.9323 Q72.7513 82.062 71.9411 83.9832 Q71.1541 85.8814 69.0476 88.474 Q68.4689 89.1453 65.367 92.3628 Q62.2652 95.5573 56.6171 101.321 Z\" fill=\"#000000\" fill-rule=\"evenodd\" fill-opacity=\"1\" /><path clip-path=\"url(#clip630)\" d=\"M92.7512 73.775 Q89.1401 73.775 87.3114 77.3398 Q85.5058 80.8814 85.5058 88.011 Q85.5058 95.1174 87.3114 98.6822 Q89.1401 102.224 92.7512 102.224 Q96.3854 102.224 98.1909 98.6822 Q100.02 95.1174 100.02 88.011 Q100.02 80.8814 98.1909 77.3398 Q96.3854 73.775 92.7512 73.775 M92.7512 70.0713 Q98.5613 70.0713 101.617 74.6777 Q104.696 79.261 104.696 88.011 Q104.696 96.7378 101.617 101.344 Q98.5613 105.928 92.7512 105.928 Q86.941 105.928 83.8623 101.344 Q80.8068 96.7378 80.8068 88.011 Q80.8068 79.261 83.8623 74.6777 Q86.941 70.0713 92.7512 70.0713 Z\" fill=\"#000000\" fill-rule=\"evenodd\" fill-opacity=\"1\" /><polyline clip-path=\"url(#clip632)\" style=\"stroke:#009af9; stroke-linecap:butt; stroke-linejoin:round; stroke-width:4; stroke-opacity:1; fill:none\" points=\"\n",
       "  203.301,1445.72 313.135,1374.26 422.969,1302.8 532.804,1231.34 642.638,1159.88 752.472,1088.42 862.306,1016.96 972.14,945.496 1081.97,874.036 1191.81,802.576 \n",
       "  1301.64,731.116 1411.48,659.656 1521.31,588.196 1631.15,516.736 1740.98,445.276 1850.81,373.816 1960.65,302.356 2070.48,230.896 2180.32,159.436 2290.15,87.9763 \n",
       "  \n",
       "  \"/>\n",
       "<path clip-path=\"url(#clip630)\" d=\"\n",
       "M1980.81 198.898 L2279.02 198.898 L2279.02 95.2176 L1980.81 95.2176  Z\n",
       "  \" fill=\"#ffffff\" fill-rule=\"evenodd\" fill-opacity=\"1\"/>\n",
       "<polyline clip-path=\"url(#clip630)\" style=\"stroke:#000000; stroke-linecap:butt; stroke-linejoin:round; stroke-width:4; stroke-opacity:1; fill:none\" points=\"\n",
       "  1980.81,198.898 2279.02,198.898 2279.02,95.2176 1980.81,95.2176 1980.81,198.898 \n",
       "  \"/>\n",
       "<polyline clip-path=\"url(#clip630)\" style=\"stroke:#009af9; stroke-linecap:butt; stroke-linejoin:round; stroke-width:4; stroke-opacity:1; fill:none\" points=\"\n",
       "  2005.38,147.058 2152.85,147.058 \n",
       "  \"/>\n",
       "<path clip-path=\"url(#clip630)\" d=\"M2191.28 166.745 Q2189.47 171.375 2187.76 172.787 Q2186.04 174.199 2183.17 174.199 L2179.77 174.199 L2179.77 170.634 L2182.27 170.634 Q2184.03 170.634 2185 169.8 Q2185.98 168.967 2187.16 165.865 L2187.92 163.921 L2177.43 138.412 L2181.95 138.412 L2190.05 158.689 L2198.15 138.412 L2202.66 138.412 L2191.28 166.745 Z\" fill=\"#000000\" fill-rule=\"evenodd\" fill-opacity=\"1\" /><path clip-path=\"url(#clip630)\" d=\"M2209.96 160.402 L2217.6 160.402 L2217.6 134.037 L2209.29 135.703 L2209.29 131.444 L2217.55 129.778 L2222.22 129.778 L2222.22 160.402 L2229.86 160.402 L2229.86 164.338 L2209.96 164.338 L2209.96 160.402 Z\" fill=\"#000000\" fill-rule=\"evenodd\" fill-opacity=\"1\" /></svg>\n"
      ]
     },
     "execution_count": 20,
     "metadata": {},
     "output_type": "execute_result"
    }
   ],
   "source": [
    "plot(x,x)"
   ]
  },
  {
   "cell_type": "code",
   "execution_count": 25,
   "id": "60bf788c",
   "metadata": {},
   "outputs": [
    {
     "data": {
      "image/svg+xml": [
       "<?xml version=\"1.0\" encoding=\"utf-8\"?>\n",
       "<svg xmlns=\"http://www.w3.org/2000/svg\" xmlns:xlink=\"http://www.w3.org/1999/xlink\" width=\"600\" height=\"400\" viewBox=\"0 0 2400 1600\">\n",
       "<defs>\n",
       "  <clipPath id=\"clip790\">\n",
       "    <rect x=\"0\" y=\"0\" width=\"2400\" height=\"1600\"/>\n",
       "  </clipPath>\n",
       "</defs>\n",
       "<path clip-path=\"url(#clip790)\" d=\"\n",
       "M0 1600 L2400 1600 L2400 0 L0 0  Z\n",
       "  \" fill=\"#ffffff\" fill-rule=\"evenodd\" fill-opacity=\"1\"/>\n",
       "<defs>\n",
       "  <clipPath id=\"clip791\">\n",
       "    <rect x=\"480\" y=\"0\" width=\"1681\" height=\"1600\"/>\n",
       "  </clipPath>\n",
       "</defs>\n",
       "<path clip-path=\"url(#clip790)\" d=\"\n",
       "M140.696 1486.45 L2352.76 1486.45 L2352.76 47.2441 L140.696 47.2441  Z\n",
       "  \" fill=\"#ffffff\" fill-rule=\"evenodd\" fill-opacity=\"1\"/>\n",
       "<defs>\n",
       "  <clipPath id=\"clip792\">\n",
       "    <rect x=\"140\" y=\"47\" width=\"2213\" height=\"1440\"/>\n",
       "  </clipPath>\n",
       "</defs>\n",
       "<polyline clip-path=\"url(#clip792)\" style=\"stroke:#000000; stroke-linecap:butt; stroke-linejoin:round; stroke-width:2; stroke-opacity:0.1; fill:none\" points=\"\n",
       "  642.638,1486.45 642.638,47.2441 \n",
       "  \"/>\n",
       "<polyline clip-path=\"url(#clip792)\" style=\"stroke:#000000; stroke-linecap:butt; stroke-linejoin:round; stroke-width:2; stroke-opacity:0.1; fill:none\" points=\"\n",
       "  1191.81,1486.45 1191.81,47.2441 \n",
       "  \"/>\n",
       "<polyline clip-path=\"url(#clip792)\" style=\"stroke:#000000; stroke-linecap:butt; stroke-linejoin:round; stroke-width:2; stroke-opacity:0.1; fill:none\" points=\"\n",
       "  1740.98,1486.45 1740.98,47.2441 \n",
       "  \"/>\n",
       "<polyline clip-path=\"url(#clip792)\" style=\"stroke:#000000; stroke-linecap:butt; stroke-linejoin:round; stroke-width:2; stroke-opacity:0.1; fill:none\" points=\"\n",
       "  2290.15,1486.45 2290.15,47.2441 \n",
       "  \"/>\n",
       "<polyline clip-path=\"url(#clip790)\" style=\"stroke:#000000; stroke-linecap:butt; stroke-linejoin:round; stroke-width:4; stroke-opacity:1; fill:none\" points=\"\n",
       "  140.696,1486.45 2352.76,1486.45 \n",
       "  \"/>\n",
       "<polyline clip-path=\"url(#clip790)\" style=\"stroke:#000000; stroke-linecap:butt; stroke-linejoin:round; stroke-width:4; stroke-opacity:1; fill:none\" points=\"\n",
       "  642.638,1486.45 642.638,1467.55 \n",
       "  \"/>\n",
       "<polyline clip-path=\"url(#clip790)\" style=\"stroke:#000000; stroke-linecap:butt; stroke-linejoin:round; stroke-width:4; stroke-opacity:1; fill:none\" points=\"\n",
       "  1191.81,1486.45 1191.81,1467.55 \n",
       "  \"/>\n",
       "<polyline clip-path=\"url(#clip790)\" style=\"stroke:#000000; stroke-linecap:butt; stroke-linejoin:round; stroke-width:4; stroke-opacity:1; fill:none\" points=\"\n",
       "  1740.98,1486.45 1740.98,1467.55 \n",
       "  \"/>\n",
       "<polyline clip-path=\"url(#clip790)\" style=\"stroke:#000000; stroke-linecap:butt; stroke-linejoin:round; stroke-width:4; stroke-opacity:1; fill:none\" points=\"\n",
       "  2290.15,1486.45 2290.15,1467.55 \n",
       "  \"/>\n",
       "<path clip-path=\"url(#clip790)\" d=\"M632.916 1512.56 L651.272 1512.56 L651.272 1516.5 L637.198 1516.5 L637.198 1524.97 Q638.216 1524.62 639.235 1524.46 Q640.253 1524.27 641.272 1524.27 Q647.059 1524.27 650.439 1527.44 Q653.818 1530.62 653.818 1536.03 Q653.818 1541.61 650.346 1544.71 Q646.874 1547.79 640.554 1547.79 Q638.379 1547.79 636.11 1547.42 Q633.865 1547.05 631.457 1546.31 L631.457 1541.61 Q633.541 1542.74 635.763 1543.3 Q637.985 1543.86 640.462 1543.86 Q644.466 1543.86 646.804 1541.75 Q649.142 1539.64 649.142 1536.03 Q649.142 1532.42 646.804 1530.31 Q644.466 1528.21 640.462 1528.21 Q638.587 1528.21 636.712 1528.62 Q634.86 1529.04 632.916 1529.92 L632.916 1512.56 Z\" fill=\"#000000\" fill-rule=\"evenodd\" fill-opacity=\"1\" /><path clip-path=\"url(#clip790)\" d=\"M1166.5 1543.18 L1174.14 1543.18 L1174.14 1516.82 L1165.82 1518.49 L1165.82 1514.23 L1174.09 1512.56 L1178.76 1512.56 L1178.76 1543.18 L1186.4 1543.18 L1186.4 1547.12 L1166.5 1547.12 L1166.5 1543.18 Z\" fill=\"#000000\" fill-rule=\"evenodd\" fill-opacity=\"1\" /><path clip-path=\"url(#clip790)\" d=\"M1205.85 1515.64 Q1202.24 1515.64 1200.41 1519.2 Q1198.6 1522.75 1198.6 1529.87 Q1198.6 1536.98 1200.41 1540.55 Q1202.24 1544.09 1205.85 1544.09 Q1209.48 1544.09 1211.29 1540.55 Q1213.12 1536.98 1213.12 1529.87 Q1213.12 1522.75 1211.29 1519.2 Q1209.48 1515.64 1205.85 1515.64 M1205.85 1511.93 Q1211.66 1511.93 1214.71 1516.54 Q1217.79 1521.12 1217.79 1529.87 Q1217.79 1538.6 1214.71 1543.21 Q1211.66 1547.79 1205.85 1547.79 Q1200.04 1547.79 1196.96 1543.21 Q1193.9 1538.6 1193.9 1529.87 Q1193.9 1521.12 1196.96 1516.54 Q1200.04 1511.93 1205.85 1511.93 Z\" fill=\"#000000\" fill-rule=\"evenodd\" fill-opacity=\"1\" /><path clip-path=\"url(#clip790)\" d=\"M1716.16 1543.18 L1723.8 1543.18 L1723.8 1516.82 L1715.49 1518.49 L1715.49 1514.23 L1723.76 1512.56 L1728.43 1512.56 L1728.43 1543.18 L1736.07 1543.18 L1736.07 1547.12 L1716.16 1547.12 L1716.16 1543.18 Z\" fill=\"#000000\" fill-rule=\"evenodd\" fill-opacity=\"1\" /><path clip-path=\"url(#clip790)\" d=\"M1745.56 1512.56 L1763.92 1512.56 L1763.92 1516.5 L1749.85 1516.5 L1749.85 1524.97 Q1750.86 1524.62 1751.88 1524.46 Q1752.9 1524.27 1753.92 1524.27 Q1759.71 1524.27 1763.09 1527.44 Q1766.47 1530.62 1766.47 1536.03 Q1766.47 1541.61 1762.99 1544.71 Q1759.52 1547.79 1753.2 1547.79 Q1751.03 1547.79 1748.76 1547.42 Q1746.51 1547.05 1744.1 1546.31 L1744.1 1541.61 Q1746.19 1542.74 1748.41 1543.3 Q1750.63 1543.86 1753.11 1543.86 Q1757.11 1543.86 1759.45 1541.75 Q1761.79 1539.64 1761.79 1536.03 Q1761.79 1532.42 1759.45 1530.31 Q1757.11 1528.21 1753.11 1528.21 Q1751.23 1528.21 1749.36 1528.62 Q1747.51 1529.04 1745.56 1529.92 L1745.56 1512.56 Z\" fill=\"#000000\" fill-rule=\"evenodd\" fill-opacity=\"1\" /><path clip-path=\"url(#clip790)\" d=\"M2268.92 1543.18 L2285.24 1543.18 L2285.24 1547.12 L2263.3 1547.12 L2263.3 1543.18 Q2265.96 1540.43 2270.54 1535.8 Q2275.15 1531.15 2276.33 1529.81 Q2278.58 1527.28 2279.46 1525.55 Q2280.36 1523.79 2280.36 1522.1 Q2280.36 1519.34 2278.41 1517.61 Q2276.49 1515.87 2273.39 1515.87 Q2271.19 1515.87 2268.74 1516.63 Q2266.31 1517.4 2263.53 1518.95 L2263.53 1514.23 Q2266.35 1513.09 2268.81 1512.51 Q2271.26 1511.93 2273.3 1511.93 Q2278.67 1511.93 2281.86 1514.62 Q2285.06 1517.31 2285.06 1521.8 Q2285.06 1523.93 2284.25 1525.85 Q2283.46 1527.74 2281.35 1530.34 Q2280.78 1531.01 2277.67 1534.23 Q2274.57 1537.42 2268.92 1543.18 Z\" fill=\"#000000\" fill-rule=\"evenodd\" fill-opacity=\"1\" /><path clip-path=\"url(#clip790)\" d=\"M2305.06 1515.64 Q2301.45 1515.64 2299.62 1519.2 Q2297.81 1522.75 2297.81 1529.87 Q2297.81 1536.98 2299.62 1540.55 Q2301.45 1544.09 2305.06 1544.09 Q2308.69 1544.09 2310.5 1540.55 Q2312.33 1536.98 2312.33 1529.87 Q2312.33 1522.75 2310.5 1519.2 Q2308.69 1515.64 2305.06 1515.64 M2305.06 1511.93 Q2310.87 1511.93 2313.92 1516.54 Q2317 1521.12 2317 1529.87 Q2317 1538.6 2313.92 1543.21 Q2310.87 1547.79 2305.06 1547.79 Q2299.25 1547.79 2296.17 1543.21 Q2293.11 1538.6 2293.11 1529.87 Q2293.11 1521.12 2296.17 1516.54 Q2299.25 1511.93 2305.06 1511.93 Z\" fill=\"#000000\" fill-rule=\"evenodd\" fill-opacity=\"1\" /><polyline clip-path=\"url(#clip792)\" style=\"stroke:#000000; stroke-linecap:butt; stroke-linejoin:round; stroke-width:2; stroke-opacity:0.1; fill:none\" points=\"\n",
       "  140.696,1216.81 2352.76,1216.81 \n",
       "  \"/>\n",
       "<polyline clip-path=\"url(#clip792)\" style=\"stroke:#000000; stroke-linecap:butt; stroke-linejoin:round; stroke-width:2; stroke-opacity:0.1; fill:none\" points=\"\n",
       "  140.696,842.789 2352.76,842.789 \n",
       "  \"/>\n",
       "<polyline clip-path=\"url(#clip792)\" style=\"stroke:#000000; stroke-linecap:butt; stroke-linejoin:round; stroke-width:2; stroke-opacity:0.1; fill:none\" points=\"\n",
       "  140.696,468.766 2352.76,468.766 \n",
       "  \"/>\n",
       "<polyline clip-path=\"url(#clip792)\" style=\"stroke:#000000; stroke-linecap:butt; stroke-linejoin:round; stroke-width:2; stroke-opacity:0.1; fill:none\" points=\"\n",
       "  140.696,94.7429 2352.76,94.7429 \n",
       "  \"/>\n",
       "<polyline clip-path=\"url(#clip790)\" style=\"stroke:#000000; stroke-linecap:butt; stroke-linejoin:round; stroke-width:4; stroke-opacity:1; fill:none\" points=\"\n",
       "  140.696,1486.45 140.696,47.2441 \n",
       "  \"/>\n",
       "<polyline clip-path=\"url(#clip790)\" style=\"stroke:#000000; stroke-linecap:butt; stroke-linejoin:round; stroke-width:4; stroke-opacity:1; fill:none\" points=\"\n",
       "  140.696,1216.81 159.593,1216.81 \n",
       "  \"/>\n",
       "<polyline clip-path=\"url(#clip790)\" style=\"stroke:#000000; stroke-linecap:butt; stroke-linejoin:round; stroke-width:4; stroke-opacity:1; fill:none\" points=\"\n",
       "  140.696,842.789 159.593,842.789 \n",
       "  \"/>\n",
       "<polyline clip-path=\"url(#clip790)\" style=\"stroke:#000000; stroke-linecap:butt; stroke-linejoin:round; stroke-width:4; stroke-opacity:1; fill:none\" points=\"\n",
       "  140.696,468.766 159.593,468.766 \n",
       "  \"/>\n",
       "<polyline clip-path=\"url(#clip790)\" style=\"stroke:#000000; stroke-linecap:butt; stroke-linejoin:round; stroke-width:4; stroke-opacity:1; fill:none\" points=\"\n",
       "  140.696,94.7429 159.593,94.7429 \n",
       "  \"/>\n",
       "<path clip-path=\"url(#clip790)\" d=\"M83.7929 1199.53 L102.149 1199.53 L102.149 1203.47 L88.0753 1203.47 L88.0753 1211.94 Q89.0938 1211.59 90.1123 1211.43 Q91.1308 1211.25 92.1493 1211.25 Q97.9363 1211.25 101.316 1214.42 Q104.696 1217.59 104.696 1223 Q104.696 1228.58 101.223 1231.69 Q97.7511 1234.76 91.4317 1234.76 Q89.2558 1234.76 86.9873 1234.39 Q84.7419 1234.02 82.3346 1233.28 L82.3346 1228.58 Q84.4179 1229.72 86.6401 1230.27 Q88.8623 1230.83 91.3391 1230.83 Q95.3437 1230.83 97.6817 1228.72 Q100.02 1226.62 100.02 1223 Q100.02 1219.39 97.6817 1217.29 Q95.3437 1215.18 91.3391 1215.18 Q89.4641 1215.18 87.5892 1215.6 Q85.7373 1216.01 83.7929 1216.89 L83.7929 1199.53 Z\" fill=\"#000000\" fill-rule=\"evenodd\" fill-opacity=\"1\" /><path clip-path=\"url(#clip790)\" d=\"M53.3995 856.134 L61.0384 856.134 L61.0384 829.769 L52.7282 831.435 L52.7282 827.176 L60.9921 825.509 L65.668 825.509 L65.668 856.134 L73.3068 856.134 L73.3068 860.069 L53.3995 860.069 L53.3995 856.134 Z\" fill=\"#000000\" fill-rule=\"evenodd\" fill-opacity=\"1\" /><path clip-path=\"url(#clip790)\" d=\"M92.7512 828.588 Q89.1401 828.588 87.3114 832.153 Q85.5058 835.694 85.5058 842.824 Q85.5058 849.93 87.3114 853.495 Q89.1401 857.037 92.7512 857.037 Q96.3854 857.037 98.1909 853.495 Q100.02 849.93 100.02 842.824 Q100.02 835.694 98.1909 832.153 Q96.3854 828.588 92.7512 828.588 M92.7512 824.884 Q98.5613 824.884 101.617 829.491 Q104.696 834.074 104.696 842.824 Q104.696 851.551 101.617 856.157 Q98.5613 860.741 92.7512 860.741 Q86.941 860.741 83.8623 856.157 Q80.8068 851.551 80.8068 842.824 Q80.8068 834.074 83.8623 829.491 Q86.941 824.884 92.7512 824.884 Z\" fill=\"#000000\" fill-rule=\"evenodd\" fill-opacity=\"1\" /><path clip-path=\"url(#clip790)\" d=\"M54.3949 482.111 L62.0337 482.111 L62.0337 455.745 L53.7236 457.412 L53.7236 453.153 L61.9874 451.486 L66.6633 451.486 L66.6633 482.111 L74.3022 482.111 L74.3022 486.046 L54.3949 486.046 L54.3949 482.111 Z\" fill=\"#000000\" fill-rule=\"evenodd\" fill-opacity=\"1\" /><path clip-path=\"url(#clip790)\" d=\"M83.7929 451.486 L102.149 451.486 L102.149 455.421 L88.0753 455.421 L88.0753 463.893 Q89.0938 463.546 90.1123 463.384 Q91.1308 463.199 92.1493 463.199 Q97.9363 463.199 101.316 466.37 Q104.696 469.542 104.696 474.958 Q104.696 480.537 101.223 483.639 Q97.7511 486.717 91.4317 486.717 Q89.2558 486.717 86.9873 486.347 Q84.7419 485.977 82.3346 485.236 L82.3346 480.537 Q84.4179 481.671 86.6401 482.227 Q88.8623 482.782 91.3391 482.782 Q95.3437 482.782 97.6817 480.676 Q100.02 478.569 100.02 474.958 Q100.02 471.347 97.6817 469.241 Q95.3437 467.134 91.3391 467.134 Q89.4641 467.134 87.5892 467.551 Q85.7373 467.967 83.7929 468.847 L83.7929 451.486 Z\" fill=\"#000000\" fill-rule=\"evenodd\" fill-opacity=\"1\" /><path clip-path=\"url(#clip790)\" d=\"M56.6171 108.088 L72.9365 108.088 L72.9365 112.023 L50.9921 112.023 L50.9921 108.088 Q53.6541 105.333 58.2375 100.704 Q62.8439 96.0508 64.0245 94.7082 Q66.2698 92.185 67.1494 90.4489 Q68.0522 88.6897 68.0522 86.9999 Q68.0522 84.2453 66.1078 82.5092 Q64.1865 80.7731 61.0847 80.7731 Q58.8856 80.7731 56.4319 81.5369 Q54.0014 82.3008 51.2236 83.8517 L51.2236 79.1295 Q54.0477 77.9953 56.5014 77.4166 Q58.955 76.8379 60.9921 76.8379 Q66.3624 76.8379 69.5568 79.5231 Q72.7513 82.2082 72.7513 86.699 Q72.7513 88.8286 71.9411 90.7499 Q71.1541 92.648 69.0476 95.2406 Q68.4689 95.9119 65.367 99.1294 Q62.2652 102.324 56.6171 108.088 Z\" fill=\"#000000\" fill-rule=\"evenodd\" fill-opacity=\"1\" /><path clip-path=\"url(#clip790)\" d=\"M92.7512 80.5416 Q89.1401 80.5416 87.3114 84.1064 Q85.5058 87.648 85.5058 94.7776 Q85.5058 101.884 87.3114 105.449 Q89.1401 108.99 92.7512 108.99 Q96.3854 108.99 98.1909 105.449 Q100.02 101.884 100.02 94.7776 Q100.02 87.648 98.1909 84.1064 Q96.3854 80.5416 92.7512 80.5416 M92.7512 76.8379 Q98.5613 76.8379 101.617 81.4443 Q104.696 86.0277 104.696 94.7776 Q104.696 103.504 101.617 108.111 Q98.5613 112.694 92.7512 112.694 Q86.941 112.694 83.8623 108.111 Q80.8068 103.504 80.8068 94.7776 Q80.8068 86.0277 83.8623 81.4443 Q86.941 76.8379 92.7512 76.8379 Z\" fill=\"#000000\" fill-rule=\"evenodd\" fill-opacity=\"1\" /><polyline clip-path=\"url(#clip792)\" style=\"stroke:#009af9; stroke-linecap:butt; stroke-linejoin:round; stroke-width:4; stroke-opacity:1; fill:none\" points=\"\n",
       "  203.301,1445.72 313.135,1424.64 422.969,1346.56 532.804,1274.31 642.638,1164.97 752.472,1091.57 862.306,1005.55 972.14,961.479 1081.97,910.94 1191.81,812.503 \n",
       "  1301.64,698.933 1411.48,645.67 1521.31,564.912 1631.15,526.032 1740.98,394.934 1850.81,320.189 1960.65,308.104 2070.48,243.238 2180.32,112.406 2290.15,87.9763 \n",
       "  \n",
       "  \"/>\n",
       "<path clip-path=\"url(#clip790)\" d=\"\n",
       "M1980.81 198.898 L2279.02 198.898 L2279.02 95.2176 L1980.81 95.2176  Z\n",
       "  \" fill=\"#ffffff\" fill-rule=\"evenodd\" fill-opacity=\"1\"/>\n",
       "<polyline clip-path=\"url(#clip790)\" style=\"stroke:#000000; stroke-linecap:butt; stroke-linejoin:round; stroke-width:4; stroke-opacity:1; fill:none\" points=\"\n",
       "  1980.81,198.898 2279.02,198.898 2279.02,95.2176 1980.81,95.2176 1980.81,198.898 \n",
       "  \"/>\n",
       "<polyline clip-path=\"url(#clip790)\" style=\"stroke:#009af9; stroke-linecap:butt; stroke-linejoin:round; stroke-width:4; stroke-opacity:1; fill:none\" points=\"\n",
       "  2005.38,147.058 2152.85,147.058 \n",
       "  \"/>\n",
       "<path clip-path=\"url(#clip790)\" d=\"M2191.28 166.745 Q2189.47 171.375 2187.76 172.787 Q2186.04 174.199 2183.17 174.199 L2179.77 174.199 L2179.77 170.634 L2182.27 170.634 Q2184.03 170.634 2185 169.8 Q2185.98 168.967 2187.16 165.865 L2187.92 163.921 L2177.43 138.412 L2181.95 138.412 L2190.05 158.689 L2198.15 138.412 L2202.66 138.412 L2191.28 166.745 Z\" fill=\"#000000\" fill-rule=\"evenodd\" fill-opacity=\"1\" /><path clip-path=\"url(#clip790)\" d=\"M2209.96 160.402 L2217.6 160.402 L2217.6 134.037 L2209.29 135.703 L2209.29 131.444 L2217.55 129.778 L2222.22 129.778 L2222.22 160.402 L2229.86 160.402 L2229.86 164.338 L2209.96 164.338 L2209.96 160.402 Z\" fill=\"#000000\" fill-rule=\"evenodd\" fill-opacity=\"1\" /></svg>\n"
      ]
     },
     "execution_count": 25,
     "metadata": {},
     "output_type": "execute_result"
    }
   ],
   "source": [
    "plot(x,x .+ rand(20))"
   ]
  },
  {
   "cell_type": "code",
   "execution_count": 26,
   "id": "d63456fe",
   "metadata": {},
   "outputs": [
    {
     "data": {
      "text/plain": [
       "20-element Vector{Int64}:\n",
       "  1\n",
       "  2\n",
       "  3\n",
       "  4\n",
       "  5\n",
       "  6\n",
       "  7\n",
       "  8\n",
       "  9\n",
       " 10\n",
       " 11\n",
       " 12\n",
       " 13\n",
       " 14\n",
       " 15\n",
       " 16\n",
       " 17\n",
       " 18\n",
       " 19\n",
       " 20"
      ]
     },
     "execution_count": 26,
     "metadata": {},
     "output_type": "execute_result"
    }
   ],
   "source": [
    "x"
   ]
  },
  {
   "cell_type": "code",
   "execution_count": 27,
   "id": "086d57bf",
   "metadata": {},
   "outputs": [
    {
     "data": {
      "text/plain": [
       "20-element Vector{Int64}:\n",
       "  2\n",
       "  4\n",
       "  6\n",
       "  8\n",
       " 10\n",
       " 12\n",
       " 14\n",
       " 16\n",
       " 18\n",
       " 20\n",
       " 22\n",
       " 24\n",
       " 26\n",
       " 28\n",
       " 30\n",
       " 32\n",
       " 34\n",
       " 36\n",
       " 38\n",
       " 40"
      ]
     },
     "execution_count": 27,
     "metadata": {},
     "output_type": "execute_result"
    }
   ],
   "source": [
    "x+x"
   ]
  },
  {
   "cell_type": "code",
   "execution_count": 29,
   "id": "86c36f83",
   "metadata": {},
   "outputs": [
    {
     "ename": "LoadError",
     "evalue": "MethodError: no method matching ^(::Vector{Int64}, ::Int64)\n\u001b[0mClosest candidates are:\n\u001b[0m  ^(\u001b[91m::Union{AbstractChar, AbstractString}\u001b[39m, ::Integer) at strings/basic.jl:718\n\u001b[0m  ^(\u001b[91m::LinearAlgebra.UniformScaling\u001b[39m, ::Number) at /Users/julia/buildbot/worker/package_macos64/build/usr/share/julia/stdlib/v1.6/LinearAlgebra/src/uniformscaling.jl:298\n\u001b[0m  ^(\u001b[91m::LinearAlgebra.Symmetric{var\"#s832\", S} where {var\"#s832\"<:Real, S<:(AbstractMatrix{var\"#s832\"} where var\"#s832\"<:var\"#s832\")}\u001b[39m, ::Integer) at /Users/julia/buildbot/worker/package_macos64/build/usr/share/julia/stdlib/v1.6/LinearAlgebra/src/symmetric.jl:868\n\u001b[0m  ...",
     "output_type": "error",
     "traceback": [
      "MethodError: no method matching ^(::Vector{Int64}, ::Int64)\n\u001b[0mClosest candidates are:\n\u001b[0m  ^(\u001b[91m::Union{AbstractChar, AbstractString}\u001b[39m, ::Integer) at strings/basic.jl:718\n\u001b[0m  ^(\u001b[91m::LinearAlgebra.UniformScaling\u001b[39m, ::Number) at /Users/julia/buildbot/worker/package_macos64/build/usr/share/julia/stdlib/v1.6/LinearAlgebra/src/uniformscaling.jl:298\n\u001b[0m  ^(\u001b[91m::LinearAlgebra.Symmetric{var\"#s832\", S} where {var\"#s832\"<:Real, S<:(AbstractMatrix{var\"#s832\"} where var\"#s832\"<:var\"#s832\")}\u001b[39m, ::Integer) at /Users/julia/buildbot/worker/package_macos64/build/usr/share/julia/stdlib/v1.6/LinearAlgebra/src/symmetric.jl:868\n\u001b[0m  ...",
      "",
      "Stacktrace:",
      " [1] macro expansion",
      "   @ ./none:0 [inlined]",
      " [2] literal_pow(f::typeof(^), x::Vector{Int64}, #unused#::Val{2})",
      "   @ Base ./none:0",
      " [3] top-level scope",
      "   @ In[29]:1",
      " [4] eval",
      "   @ ./boot.jl:360 [inlined]",
      " [5] include_string(mapexpr::typeof(REPL.softscope), mod::Module, code::String, filename::String)",
      "   @ Base ./loading.jl:1116"
     ]
    }
   ],
   "source": [
    "x^2"
   ]
  },
  {
   "cell_type": "code",
   "execution_count": 30,
   "id": "5345c8e4",
   "metadata": {},
   "outputs": [
    {
     "data": {
      "text/plain": [
       "20-element Vector{Int64}:\n",
       "   1\n",
       "   4\n",
       "   9\n",
       "  16\n",
       "  25\n",
       "  36\n",
       "  49\n",
       "  64\n",
       "  81\n",
       " 100\n",
       " 121\n",
       " 144\n",
       " 169\n",
       " 196\n",
       " 225\n",
       " 256\n",
       " 289\n",
       " 324\n",
       " 361\n",
       " 400"
      ]
     },
     "execution_count": 30,
     "metadata": {},
     "output_type": "execute_result"
    }
   ],
   "source": [
    "x .^ 2"
   ]
  },
  {
   "cell_type": "code",
   "execution_count": 31,
   "id": "2ac8fdd1",
   "metadata": {},
   "outputs": [
    {
     "data": {
      "text/plain": [
       "1:5"
      ]
     },
     "execution_count": 31,
     "metadata": {},
     "output_type": "execute_result"
    }
   ],
   "source": [
    "y = 1:5\n",
    "y"
   ]
  },
  {
   "cell_type": "code",
   "execution_count": 32,
   "id": "31ea34d4",
   "metadata": {},
   "outputs": [
    {
     "ename": "LoadError",
     "evalue": "MethodError: no method matching ^(::UnitRange{Int64}, ::Int64)\n\u001b[0mClosest candidates are:\n\u001b[0m  ^(\u001b[91m::Union{AbstractChar, AbstractString}\u001b[39m, ::Integer) at strings/basic.jl:718\n\u001b[0m  ^(\u001b[91m::LinearAlgebra.UniformScaling\u001b[39m, ::Number) at /Users/julia/buildbot/worker/package_macos64/build/usr/share/julia/stdlib/v1.6/LinearAlgebra/src/uniformscaling.jl:298\n\u001b[0m  ^(\u001b[91m::LinearAlgebra.Symmetric{var\"#s832\", S} where {var\"#s832\"<:Real, S<:(AbstractMatrix{var\"#s832\"} where var\"#s832\"<:var\"#s832\")}\u001b[39m, ::Integer) at /Users/julia/buildbot/worker/package_macos64/build/usr/share/julia/stdlib/v1.6/LinearAlgebra/src/symmetric.jl:868\n\u001b[0m  ...",
     "output_type": "error",
     "traceback": [
      "MethodError: no method matching ^(::UnitRange{Int64}, ::Int64)\n\u001b[0mClosest candidates are:\n\u001b[0m  ^(\u001b[91m::Union{AbstractChar, AbstractString}\u001b[39m, ::Integer) at strings/basic.jl:718\n\u001b[0m  ^(\u001b[91m::LinearAlgebra.UniformScaling\u001b[39m, ::Number) at /Users/julia/buildbot/worker/package_macos64/build/usr/share/julia/stdlib/v1.6/LinearAlgebra/src/uniformscaling.jl:298\n\u001b[0m  ^(\u001b[91m::LinearAlgebra.Symmetric{var\"#s832\", S} where {var\"#s832\"<:Real, S<:(AbstractMatrix{var\"#s832\"} where var\"#s832\"<:var\"#s832\")}\u001b[39m, ::Integer) at /Users/julia/buildbot/worker/package_macos64/build/usr/share/julia/stdlib/v1.6/LinearAlgebra/src/symmetric.jl:868\n\u001b[0m  ...",
      "",
      "Stacktrace:",
      " [1] macro expansion",
      "   @ ./none:0 [inlined]",
      " [2] literal_pow(f::typeof(^), x::UnitRange{Int64}, #unused#::Val{2})",
      "   @ Base ./none:0",
      " [3] top-level scope",
      "   @ In[32]:1",
      " [4] eval",
      "   @ ./boot.jl:360 [inlined]",
      " [5] include_string(mapexpr::typeof(REPL.softscope), mod::Module, code::String, filename::String)",
      "   @ Base ./loading.jl:1116"
     ]
    }
   ],
   "source": [
    "y^2"
   ]
  },
  {
   "cell_type": "code",
   "execution_count": 33,
   "id": "7e7b0c1d",
   "metadata": {},
   "outputs": [
    {
     "data": {
      "text/plain": [
       "5-element Vector{Int64}:\n",
       "  1\n",
       "  4\n",
       "  9\n",
       " 16\n",
       " 25"
      ]
     },
     "execution_count": 33,
     "metadata": {},
     "output_type": "execute_result"
    }
   ],
   "source": [
    "y .^ 2"
   ]
  },
  {
   "cell_type": "code",
   "execution_count": 35,
   "id": "254f9e53",
   "metadata": {},
   "outputs": [
    {
     "data": {
      "text/plain": [
       "u (generic function with 1 method)"
      ]
     },
     "execution_count": 35,
     "metadata": {},
     "output_type": "execute_result"
    }
   ],
   "source": [
    "u(t) = sin(t)"
   ]
  },
  {
   "cell_type": "code",
   "execution_count": 36,
   "id": "c837cbc9",
   "metadata": {},
   "outputs": [
    {
     "data": {
      "image/svg+xml": [
       "<?xml version=\"1.0\" encoding=\"utf-8\"?>\n",
       "<svg xmlns=\"http://www.w3.org/2000/svg\" xmlns:xlink=\"http://www.w3.org/1999/xlink\" width=\"600\" height=\"400\" viewBox=\"0 0 2400 1600\">\n",
       "<defs>\n",
       "  <clipPath id=\"clip830\">\n",
       "    <rect x=\"0\" y=\"0\" width=\"2400\" height=\"1600\"/>\n",
       "  </clipPath>\n",
       "</defs>\n",
       "<path clip-path=\"url(#clip830)\" d=\"\n",
       "M0 1600 L2400 1600 L2400 0 L0 0  Z\n",
       "  \" fill=\"#ffffff\" fill-rule=\"evenodd\" fill-opacity=\"1\"/>\n",
       "<defs>\n",
       "  <clipPath id=\"clip831\">\n",
       "    <rect x=\"480\" y=\"0\" width=\"1681\" height=\"1600\"/>\n",
       "  </clipPath>\n",
       "</defs>\n",
       "<path clip-path=\"url(#clip830)\" d=\"\n",
       "M193.936 1486.45 L2352.76 1486.45 L2352.76 47.2441 L193.936 47.2441  Z\n",
       "  \" fill=\"#ffffff\" fill-rule=\"evenodd\" fill-opacity=\"1\"/>\n",
       "<defs>\n",
       "  <clipPath id=\"clip832\">\n",
       "    <rect x=\"193\" y=\"47\" width=\"2160\" height=\"1440\"/>\n",
       "  </clipPath>\n",
       "</defs>\n",
       "<polyline clip-path=\"url(#clip832)\" style=\"stroke:#000000; stroke-linecap:butt; stroke-linejoin:round; stroke-width:2; stroke-opacity:0.1; fill:none\" points=\"\n",
       "  458.697,1486.45 458.697,47.2441 \n",
       "  \"/>\n",
       "<polyline clip-path=\"url(#clip832)\" style=\"stroke:#000000; stroke-linecap:butt; stroke-linejoin:round; stroke-width:2; stroke-opacity:0.1; fill:none\" points=\"\n",
       "  866.021,1486.45 866.021,47.2441 \n",
       "  \"/>\n",
       "<polyline clip-path=\"url(#clip832)\" style=\"stroke:#000000; stroke-linecap:butt; stroke-linejoin:round; stroke-width:2; stroke-opacity:0.1; fill:none\" points=\"\n",
       "  1273.35,1486.45 1273.35,47.2441 \n",
       "  \"/>\n",
       "<polyline clip-path=\"url(#clip832)\" style=\"stroke:#000000; stroke-linecap:butt; stroke-linejoin:round; stroke-width:2; stroke-opacity:0.1; fill:none\" points=\"\n",
       "  1680.67,1486.45 1680.67,47.2441 \n",
       "  \"/>\n",
       "<polyline clip-path=\"url(#clip832)\" style=\"stroke:#000000; stroke-linecap:butt; stroke-linejoin:round; stroke-width:2; stroke-opacity:0.1; fill:none\" points=\"\n",
       "  2087.99,1486.45 2087.99,47.2441 \n",
       "  \"/>\n",
       "<polyline clip-path=\"url(#clip830)\" style=\"stroke:#000000; stroke-linecap:butt; stroke-linejoin:round; stroke-width:4; stroke-opacity:1; fill:none\" points=\"\n",
       "  193.936,1486.45 2352.76,1486.45 \n",
       "  \"/>\n",
       "<polyline clip-path=\"url(#clip830)\" style=\"stroke:#000000; stroke-linecap:butt; stroke-linejoin:round; stroke-width:4; stroke-opacity:1; fill:none\" points=\"\n",
       "  458.697,1486.45 458.697,1467.55 \n",
       "  \"/>\n",
       "<polyline clip-path=\"url(#clip830)\" style=\"stroke:#000000; stroke-linecap:butt; stroke-linejoin:round; stroke-width:4; stroke-opacity:1; fill:none\" points=\"\n",
       "  866.021,1486.45 866.021,1467.55 \n",
       "  \"/>\n",
       "<polyline clip-path=\"url(#clip830)\" style=\"stroke:#000000; stroke-linecap:butt; stroke-linejoin:round; stroke-width:4; stroke-opacity:1; fill:none\" points=\"\n",
       "  1273.35,1486.45 1273.35,1467.55 \n",
       "  \"/>\n",
       "<polyline clip-path=\"url(#clip830)\" style=\"stroke:#000000; stroke-linecap:butt; stroke-linejoin:round; stroke-width:4; stroke-opacity:1; fill:none\" points=\"\n",
       "  1680.67,1486.45 1680.67,1467.55 \n",
       "  \"/>\n",
       "<polyline clip-path=\"url(#clip830)\" style=\"stroke:#000000; stroke-linecap:butt; stroke-linejoin:round; stroke-width:4; stroke-opacity:1; fill:none\" points=\"\n",
       "  2087.99,1486.45 2087.99,1467.55 \n",
       "  \"/>\n",
       "<path clip-path=\"url(#clip830)\" d=\"M427.598 1530.29 L457.273 1530.29 L457.273 1534.23 L427.598 1534.23 L427.598 1530.29 Z\" fill=\"#000000\" fill-rule=\"evenodd\" fill-opacity=\"1\" /><path clip-path=\"url(#clip830)\" d=\"M480.213 1516.63 L468.408 1535.08 L480.213 1535.08 L480.213 1516.63 M478.986 1512.56 L484.866 1512.56 L484.866 1535.08 L489.796 1535.08 L489.796 1538.97 L484.866 1538.97 L484.866 1547.12 L480.213 1547.12 L480.213 1538.97 L464.611 1538.97 L464.611 1534.46 L478.986 1512.56 Z\" fill=\"#000000\" fill-rule=\"evenodd\" fill-opacity=\"1\" /><path clip-path=\"url(#clip830)\" d=\"M835.964 1530.29 L865.639 1530.29 L865.639 1534.23 L835.964 1534.23 L835.964 1530.29 Z\" fill=\"#000000\" fill-rule=\"evenodd\" fill-opacity=\"1\" /><path clip-path=\"url(#clip830)\" d=\"M879.76 1543.18 L896.079 1543.18 L896.079 1547.12 L874.135 1547.12 L874.135 1543.18 Q876.797 1540.43 881.38 1535.8 Q885.987 1531.15 887.167 1529.81 Q889.413 1527.28 890.292 1525.55 Q891.195 1523.79 891.195 1522.1 Q891.195 1519.34 889.25 1517.61 Q887.329 1515.87 884.227 1515.87 Q882.028 1515.87 879.575 1516.63 Q877.144 1517.4 874.366 1518.95 L874.366 1514.23 Q877.19 1513.09 879.644 1512.51 Q882.098 1511.93 884.135 1511.93 Q889.505 1511.93 892.7 1514.62 Q895.894 1517.31 895.894 1521.8 Q895.894 1523.93 895.084 1525.85 Q894.297 1527.74 892.19 1530.34 Q891.612 1531.01 888.51 1534.23 Q885.408 1537.42 879.76 1543.18 Z\" fill=\"#000000\" fill-rule=\"evenodd\" fill-opacity=\"1\" /><path clip-path=\"url(#clip830)\" d=\"M1273.35 1515.64 Q1269.73 1515.64 1267.91 1519.2 Q1266.1 1522.75 1266.1 1529.87 Q1266.1 1536.98 1267.91 1540.55 Q1269.73 1544.09 1273.35 1544.09 Q1276.98 1544.09 1278.79 1540.55 Q1280.61 1536.98 1280.61 1529.87 Q1280.61 1522.75 1278.79 1519.2 Q1276.98 1515.64 1273.35 1515.64 M1273.35 1511.93 Q1279.16 1511.93 1282.21 1516.54 Q1285.29 1521.12 1285.29 1529.87 Q1285.29 1538.6 1282.21 1543.21 Q1279.16 1547.79 1273.35 1547.79 Q1267.54 1547.79 1264.46 1543.21 Q1261.4 1538.6 1261.4 1529.87 Q1261.4 1521.12 1264.46 1516.54 Q1267.54 1511.93 1273.35 1511.93 Z\" fill=\"#000000\" fill-rule=\"evenodd\" fill-opacity=\"1\" /><path clip-path=\"url(#clip830)\" d=\"M1675.32 1543.18 L1691.64 1543.18 L1691.64 1547.12 L1669.7 1547.12 L1669.7 1543.18 Q1672.36 1540.43 1676.94 1535.8 Q1681.55 1531.15 1682.73 1529.81 Q1684.98 1527.28 1685.86 1525.55 Q1686.76 1523.79 1686.76 1522.1 Q1686.76 1519.34 1684.81 1517.61 Q1682.89 1515.87 1679.79 1515.87 Q1677.59 1515.87 1675.14 1516.63 Q1672.71 1517.4 1669.93 1518.95 L1669.93 1514.23 Q1672.75 1513.09 1675.21 1512.51 Q1677.66 1511.93 1679.7 1511.93 Q1685.07 1511.93 1688.26 1514.62 Q1691.46 1517.31 1691.46 1521.8 Q1691.46 1523.93 1690.65 1525.85 Q1689.86 1527.74 1687.75 1530.34 Q1687.18 1531.01 1684.07 1534.23 Q1680.97 1537.42 1675.32 1543.18 Z\" fill=\"#000000\" fill-rule=\"evenodd\" fill-opacity=\"1\" /><path clip-path=\"url(#clip830)\" d=\"M2091 1516.63 L2079.2 1535.08 L2091 1535.08 L2091 1516.63 M2089.78 1512.56 L2095.66 1512.56 L2095.66 1535.08 L2100.59 1535.08 L2100.59 1538.97 L2095.66 1538.97 L2095.66 1547.12 L2091 1547.12 L2091 1538.97 L2075.4 1538.97 L2075.4 1534.46 L2089.78 1512.56 Z\" fill=\"#000000\" fill-rule=\"evenodd\" fill-opacity=\"1\" /><polyline clip-path=\"url(#clip832)\" style=\"stroke:#000000; stroke-linecap:butt; stroke-linejoin:round; stroke-width:2; stroke-opacity:0.1; fill:none\" points=\"\n",
       "  193.936,1445.9 2352.76,1445.9 \n",
       "  \"/>\n",
       "<polyline clip-path=\"url(#clip832)\" style=\"stroke:#000000; stroke-linecap:butt; stroke-linejoin:round; stroke-width:2; stroke-opacity:0.1; fill:none\" points=\"\n",
       "  193.936,1106.31 2352.76,1106.31 \n",
       "  \"/>\n",
       "<polyline clip-path=\"url(#clip832)\" style=\"stroke:#000000; stroke-linecap:butt; stroke-linejoin:round; stroke-width:2; stroke-opacity:0.1; fill:none\" points=\"\n",
       "  193.936,766.721 2352.76,766.721 \n",
       "  \"/>\n",
       "<polyline clip-path=\"url(#clip832)\" style=\"stroke:#000000; stroke-linecap:butt; stroke-linejoin:round; stroke-width:2; stroke-opacity:0.1; fill:none\" points=\"\n",
       "  193.936,427.131 2352.76,427.131 \n",
       "  \"/>\n",
       "<polyline clip-path=\"url(#clip832)\" style=\"stroke:#000000; stroke-linecap:butt; stroke-linejoin:round; stroke-width:2; stroke-opacity:0.1; fill:none\" points=\"\n",
       "  193.936,87.5412 2352.76,87.5412 \n",
       "  \"/>\n",
       "<polyline clip-path=\"url(#clip830)\" style=\"stroke:#000000; stroke-linecap:butt; stroke-linejoin:round; stroke-width:4; stroke-opacity:1; fill:none\" points=\"\n",
       "  193.936,1486.45 193.936,47.2441 \n",
       "  \"/>\n",
       "<polyline clip-path=\"url(#clip830)\" style=\"stroke:#000000; stroke-linecap:butt; stroke-linejoin:round; stroke-width:4; stroke-opacity:1; fill:none\" points=\"\n",
       "  193.936,1445.9 212.834,1445.9 \n",
       "  \"/>\n",
       "<polyline clip-path=\"url(#clip830)\" style=\"stroke:#000000; stroke-linecap:butt; stroke-linejoin:round; stroke-width:4; stroke-opacity:1; fill:none\" points=\"\n",
       "  193.936,1106.31 212.834,1106.31 \n",
       "  \"/>\n",
       "<polyline clip-path=\"url(#clip830)\" style=\"stroke:#000000; stroke-linecap:butt; stroke-linejoin:round; stroke-width:4; stroke-opacity:1; fill:none\" points=\"\n",
       "  193.936,766.721 212.834,766.721 \n",
       "  \"/>\n",
       "<polyline clip-path=\"url(#clip830)\" style=\"stroke:#000000; stroke-linecap:butt; stroke-linejoin:round; stroke-width:4; stroke-opacity:1; fill:none\" points=\"\n",
       "  193.936,427.131 212.834,427.131 \n",
       "  \"/>\n",
       "<polyline clip-path=\"url(#clip830)\" style=\"stroke:#000000; stroke-linecap:butt; stroke-linejoin:round; stroke-width:4; stroke-opacity:1; fill:none\" points=\"\n",
       "  193.936,87.5412 212.834,87.5412 \n",
       "  \"/>\n",
       "<path clip-path=\"url(#clip830)\" d=\"M50.9921 1446.35 L80.6679 1446.35 L80.6679 1450.29 L50.9921 1450.29 L50.9921 1446.35 Z\" fill=\"#000000\" fill-rule=\"evenodd\" fill-opacity=\"1\" /><path clip-path=\"url(#clip830)\" d=\"M91.5706 1459.25 L99.2095 1459.25 L99.2095 1432.88 L90.8993 1434.55 L90.8993 1430.29 L99.1632 1428.62 L103.839 1428.62 L103.839 1459.25 L111.478 1459.25 L111.478 1463.18 L91.5706 1463.18 L91.5706 1459.25 Z\" fill=\"#000000\" fill-rule=\"evenodd\" fill-opacity=\"1\" /><path clip-path=\"url(#clip830)\" d=\"M120.922 1457.3 L125.807 1457.3 L125.807 1463.18 L120.922 1463.18 L120.922 1457.3 Z\" fill=\"#000000\" fill-rule=\"evenodd\" fill-opacity=\"1\" /><path clip-path=\"url(#clip830)\" d=\"M145.992 1431.7 Q142.381 1431.7 140.552 1435.27 Q138.746 1438.81 138.746 1445.94 Q138.746 1453.04 140.552 1456.61 Q142.381 1460.15 145.992 1460.15 Q149.626 1460.15 151.431 1456.61 Q153.26 1453.04 153.26 1445.94 Q153.26 1438.81 151.431 1435.27 Q149.626 1431.7 145.992 1431.7 M145.992 1428 Q151.802 1428 154.857 1432.6 Q157.936 1437.19 157.936 1445.94 Q157.936 1454.66 154.857 1459.27 Q151.802 1463.85 145.992 1463.85 Q140.181 1463.85 137.103 1459.27 Q134.047 1454.66 134.047 1445.94 Q134.047 1437.19 137.103 1432.6 Q140.181 1428 145.992 1428 Z\" fill=\"#000000\" fill-rule=\"evenodd\" fill-opacity=\"1\" /><path clip-path=\"url(#clip830)\" d=\"M51.9875 1106.76 L81.6633 1106.76 L81.6633 1110.7 L51.9875 1110.7 L51.9875 1106.76 Z\" fill=\"#000000\" fill-rule=\"evenodd\" fill-opacity=\"1\" /><path clip-path=\"url(#clip830)\" d=\"M101.756 1092.11 Q98.1447 1092.11 96.316 1095.68 Q94.5104 1099.22 94.5104 1106.35 Q94.5104 1113.45 96.316 1117.02 Q98.1447 1120.56 101.756 1120.56 Q105.39 1120.56 107.196 1117.02 Q109.024 1113.45 109.024 1106.35 Q109.024 1099.22 107.196 1095.68 Q105.39 1092.11 101.756 1092.11 M101.756 1088.41 Q107.566 1088.41 110.621 1093.01 Q113.7 1097.6 113.7 1106.35 Q113.7 1115.07 110.621 1119.68 Q107.566 1124.26 101.756 1124.26 Q95.9456 1124.26 92.8669 1119.68 Q89.8114 1115.07 89.8114 1106.35 Q89.8114 1097.6 92.8669 1093.01 Q95.9456 1088.41 101.756 1088.41 Z\" fill=\"#000000\" fill-rule=\"evenodd\" fill-opacity=\"1\" /><path clip-path=\"url(#clip830)\" d=\"M121.918 1117.71 L126.802 1117.71 L126.802 1123.59 L121.918 1123.59 L121.918 1117.71 Z\" fill=\"#000000\" fill-rule=\"evenodd\" fill-opacity=\"1\" /><path clip-path=\"url(#clip830)\" d=\"M137.033 1089.03 L155.39 1089.03 L155.39 1092.97 L141.316 1092.97 L141.316 1101.44 Q142.334 1101.09 143.353 1100.93 Q144.371 1100.74 145.39 1100.74 Q151.177 1100.74 154.556 1103.92 Q157.936 1107.09 157.936 1112.5 Q157.936 1118.08 154.464 1121.18 Q150.992 1124.26 144.672 1124.26 Q142.496 1124.26 140.228 1123.89 Q137.982 1123.52 135.575 1122.78 L135.575 1118.08 Q137.658 1119.22 139.881 1119.77 Q142.103 1120.33 144.58 1120.33 Q148.584 1120.33 150.922 1118.22 Q153.26 1116.11 153.26 1112.5 Q153.26 1108.89 150.922 1106.79 Q148.584 1104.68 144.58 1104.68 Q142.705 1104.68 140.83 1105.1 Q138.978 1105.51 137.033 1106.39 L137.033 1089.03 Z\" fill=\"#000000\" fill-rule=\"evenodd\" fill-opacity=\"1\" /><path clip-path=\"url(#clip830)\" d=\"M100.76 752.52 Q97.1493 752.52 95.3206 756.085 Q93.515 759.627 93.515 766.756 Q93.515 773.863 95.3206 777.427 Q97.1493 780.969 100.76 780.969 Q104.395 780.969 106.2 777.427 Q108.029 773.863 108.029 766.756 Q108.029 759.627 106.2 756.085 Q104.395 752.52 100.76 752.52 M100.76 748.816 Q106.571 748.816 109.626 753.423 Q112.705 758.006 112.705 766.756 Q112.705 775.483 109.626 780.089 Q106.571 784.673 100.76 784.673 Q94.9502 784.673 91.8715 780.089 Q88.816 775.483 88.816 766.756 Q88.816 758.006 91.8715 753.423 Q94.9502 748.816 100.76 748.816 Z\" fill=\"#000000\" fill-rule=\"evenodd\" fill-opacity=\"1\" /><path clip-path=\"url(#clip830)\" d=\"M120.922 778.122 L125.807 778.122 L125.807 784.001 L120.922 784.001 L120.922 778.122 Z\" fill=\"#000000\" fill-rule=\"evenodd\" fill-opacity=\"1\" /><path clip-path=\"url(#clip830)\" d=\"M145.992 752.52 Q142.381 752.52 140.552 756.085 Q138.746 759.627 138.746 766.756 Q138.746 773.863 140.552 777.427 Q142.381 780.969 145.992 780.969 Q149.626 780.969 151.431 777.427 Q153.26 773.863 153.26 766.756 Q153.26 759.627 151.431 756.085 Q149.626 752.52 145.992 752.52 M145.992 748.816 Q151.802 748.816 154.857 753.423 Q157.936 758.006 157.936 766.756 Q157.936 775.483 154.857 780.089 Q151.802 784.673 145.992 784.673 Q140.181 784.673 137.103 780.089 Q134.047 775.483 134.047 766.756 Q134.047 758.006 137.103 753.423 Q140.181 748.816 145.992 748.816 Z\" fill=\"#000000\" fill-rule=\"evenodd\" fill-opacity=\"1\" /><path clip-path=\"url(#clip830)\" d=\"M101.756 412.93 Q98.1447 412.93 96.316 416.495 Q94.5104 420.036 94.5104 427.166 Q94.5104 434.273 96.316 437.837 Q98.1447 441.379 101.756 441.379 Q105.39 441.379 107.196 437.837 Q109.024 434.273 109.024 427.166 Q109.024 420.036 107.196 416.495 Q105.39 412.93 101.756 412.93 M101.756 409.226 Q107.566 409.226 110.621 413.833 Q113.7 418.416 113.7 427.166 Q113.7 435.893 110.621 440.499 Q107.566 445.083 101.756 445.083 Q95.9456 445.083 92.8669 440.499 Q89.8114 435.893 89.8114 427.166 Q89.8114 418.416 92.8669 413.833 Q95.9456 409.226 101.756 409.226 Z\" fill=\"#000000\" fill-rule=\"evenodd\" fill-opacity=\"1\" /><path clip-path=\"url(#clip830)\" d=\"M121.918 438.532 L126.802 438.532 L126.802 444.411 L121.918 444.411 L121.918 438.532 Z\" fill=\"#000000\" fill-rule=\"evenodd\" fill-opacity=\"1\" /><path clip-path=\"url(#clip830)\" d=\"M137.033 409.851 L155.39 409.851 L155.39 413.787 L141.316 413.787 L141.316 422.259 Q142.334 421.911 143.353 421.749 Q144.371 421.564 145.39 421.564 Q151.177 421.564 154.556 424.736 Q157.936 427.907 157.936 433.323 Q157.936 438.902 154.464 442.004 Q150.992 445.083 144.672 445.083 Q142.496 445.083 140.228 444.712 Q137.982 444.342 135.575 443.601 L135.575 438.902 Q137.658 440.036 139.881 440.592 Q142.103 441.147 144.58 441.147 Q148.584 441.147 150.922 439.041 Q153.26 436.935 153.26 433.323 Q153.26 429.712 150.922 427.606 Q148.584 425.499 144.58 425.499 Q142.705 425.499 140.83 425.916 Q138.978 426.333 137.033 427.212 L137.033 409.851 Z\" fill=\"#000000\" fill-rule=\"evenodd\" fill-opacity=\"1\" /><path clip-path=\"url(#clip830)\" d=\"M91.5706 100.886 L99.2095 100.886 L99.2095 74.5205 L90.8993 76.1871 L90.8993 71.9279 L99.1632 70.2612 L103.839 70.2612 L103.839 100.886 L111.478 100.886 L111.478 104.821 L91.5706 104.821 L91.5706 100.886 Z\" fill=\"#000000\" fill-rule=\"evenodd\" fill-opacity=\"1\" /><path clip-path=\"url(#clip830)\" d=\"M120.922 98.9416 L125.807 98.9416 L125.807 104.821 L120.922 104.821 L120.922 98.9416 Z\" fill=\"#000000\" fill-rule=\"evenodd\" fill-opacity=\"1\" /><path clip-path=\"url(#clip830)\" d=\"M145.992 73.3399 Q142.381 73.3399 140.552 76.9047 Q138.746 80.4463 138.746 87.5759 Q138.746 94.6824 140.552 98.2472 Q142.381 101.789 145.992 101.789 Q149.626 101.789 151.431 98.2472 Q153.26 94.6824 153.26 87.5759 Q153.26 80.4463 151.431 76.9047 Q149.626 73.3399 145.992 73.3399 M145.992 69.6362 Q151.802 69.6362 154.857 74.2427 Q157.936 78.826 157.936 87.5759 Q157.936 96.3027 154.857 100.909 Q151.802 105.493 145.992 105.493 Q140.181 105.493 137.103 100.909 Q134.047 96.3027 134.047 87.5759 Q134.047 78.826 137.103 74.2427 Q140.181 69.6362 145.992 69.6362 Z\" fill=\"#000000\" fill-rule=\"evenodd\" fill-opacity=\"1\" /><polyline clip-path=\"url(#clip832)\" style=\"stroke:#009af9; stroke-linecap:butt; stroke-linejoin:round; stroke-width:4; stroke-opacity:1; fill:none\" points=\"\n",
       "  255.035,115.439 260.007,110.93 264.979,106.812 269.952,103.087 274.924,99.7575 297.912,89.5578 320.9,87.9763 343.888,95.0332 366.877,110.639 389.865,134.594 \n",
       "  412.853,166.595 435.841,206.233 458.829,253.004 486.459,317.813 514.089,390.87 541.719,470.835 569.348,556.237 616.07,708.592 662.791,863.993 713.544,1026.77 \n",
       "  764.296,1173.47 787.691,1233.14 811.085,1286.65 834.48,1333.31 857.875,1372.5 882.956,1405.64 908.038,1429.1 933.119,1442.53 958.201,1445.72 987.26,1436.56 \n",
       "  1016.32,1413.78 1045.38,1377.86 1074.44,1329.51 1100.26,1276.91 1126.09,1216.12 1151.91,1148.11 1177.74,1073.98 1223.03,932.82 1268.32,783.48 1317.7,619.973 \n",
       "  1367.08,465.052 1391.92,393.268 1416.75,327.032 1441.59,267.326 1466.43,215.038 1493.89,166.794 1521.35,129.439 1548.81,103.653 1576.27,89.903 1602.4,88.2248 \n",
       "  1628.52,97.6981 1654.65,118.167 1680.78,149.296 1707.95,192.414 1735.11,245.737 1762.28,308.315 1789.45,379.038 1835.18,512.959 1880.92,659.625 1936.76,845.218 \n",
       "  1992.6,1024.95 2018.85,1103.53 2045.09,1176.53 2071.34,1242.74 2097.58,1301.05 2118.61,1341.41 2139.63,1375.65 2160.65,1403.41 2181.68,1424.38 2202.7,1438.36 \n",
       "  2223.73,1445.19 2244.75,1444.79 2265.77,1437.17 2272.24,1433.38 2278.72,1428.92 2285.19,1423.8 2291.66,1418 \n",
       "  \"/>\n",
       "<path clip-path=\"url(#clip830)\" d=\"\n",
       "M1988.5 198.898 L2280.8 198.898 L2280.8 95.2176 L1988.5 95.2176  Z\n",
       "  \" fill=\"#ffffff\" fill-rule=\"evenodd\" fill-opacity=\"1\"/>\n",
       "<polyline clip-path=\"url(#clip830)\" style=\"stroke:#000000; stroke-linecap:butt; stroke-linejoin:round; stroke-width:4; stroke-opacity:1; fill:none\" points=\"\n",
       "  1988.5,198.898 2280.8,198.898 2280.8,95.2176 1988.5,95.2176 1988.5,198.898 \n",
       "  \"/>\n",
       "<polyline clip-path=\"url(#clip830)\" style=\"stroke:#009af9; stroke-linecap:butt; stroke-linejoin:round; stroke-width:4; stroke-opacity:1; fill:none\" points=\"\n",
       "  2012.48,147.058 2156.4,147.058 \n",
       "  \"/>\n",
       "<path clip-path=\"url(#clip830)\" d=\"M2194.23 166.745 Q2192.43 171.375 2190.72 172.787 Q2189 174.199 2186.13 174.199 L2182.73 174.199 L2182.73 170.634 L2185.23 170.634 Q2186.99 170.634 2187.96 169.8 Q2188.93 168.967 2190.11 165.865 L2190.88 163.921 L2180.39 138.412 L2184.91 138.412 L2193.01 158.689 L2201.11 138.412 L2205.62 138.412 L2194.23 166.745 Z\" fill=\"#000000\" fill-rule=\"evenodd\" fill-opacity=\"1\" /><path clip-path=\"url(#clip830)\" d=\"M2212.91 160.402 L2220.55 160.402 L2220.55 134.037 L2212.24 135.703 L2212.24 131.444 L2220.51 129.778 L2225.18 129.778 L2225.18 160.402 L2232.82 160.402 L2232.82 164.338 L2212.91 164.338 L2212.91 160.402 Z\" fill=\"#000000\" fill-rule=\"evenodd\" fill-opacity=\"1\" /></svg>\n"
      ]
     },
     "execution_count": 36,
     "metadata": {},
     "output_type": "execute_result"
    }
   ],
   "source": [
    "plot(u)"
   ]
  },
  {
   "cell_type": "code",
   "execution_count": 37,
   "id": "2b70941d",
   "metadata": {},
   "outputs": [
    {
     "data": {
      "image/svg+xml": [
       "<?xml version=\"1.0\" encoding=\"utf-8\"?>\n",
       "<svg xmlns=\"http://www.w3.org/2000/svg\" xmlns:xlink=\"http://www.w3.org/1999/xlink\" width=\"600\" height=\"400\" viewBox=\"0 0 2400 1600\">\n",
       "<defs>\n",
       "  <clipPath id=\"clip870\">\n",
       "    <rect x=\"0\" y=\"0\" width=\"2400\" height=\"1600\"/>\n",
       "  </clipPath>\n",
       "</defs>\n",
       "<path clip-path=\"url(#clip870)\" d=\"\n",
       "M0 1600 L2400 1600 L2400 0 L0 0  Z\n",
       "  \" fill=\"#ffffff\" fill-rule=\"evenodd\" fill-opacity=\"1\"/>\n",
       "<defs>\n",
       "  <clipPath id=\"clip871\">\n",
       "    <rect x=\"480\" y=\"0\" width=\"1681\" height=\"1600\"/>\n",
       "  </clipPath>\n",
       "</defs>\n",
       "<path clip-path=\"url(#clip870)\" d=\"\n",
       "M193.936 1486.45 L2352.76 1486.45 L2352.76 47.2441 L193.936 47.2441  Z\n",
       "  \" fill=\"#ffffff\" fill-rule=\"evenodd\" fill-opacity=\"1\"/>\n",
       "<defs>\n",
       "  <clipPath id=\"clip872\">\n",
       "    <rect x=\"193\" y=\"47\" width=\"2160\" height=\"1440\"/>\n",
       "  </clipPath>\n",
       "</defs>\n",
       "<polyline clip-path=\"url(#clip872)\" style=\"stroke:#000000; stroke-linecap:butt; stroke-linejoin:round; stroke-width:2; stroke-opacity:0.1; fill:none\" points=\"\n",
       "  683.797,1486.45 683.797,47.2441 \n",
       "  \"/>\n",
       "<polyline clip-path=\"url(#clip872)\" style=\"stroke:#000000; stroke-linecap:butt; stroke-linejoin:round; stroke-width:2; stroke-opacity:0.1; fill:none\" points=\"\n",
       "  1219.75,1486.45 1219.75,47.2441 \n",
       "  \"/>\n",
       "<polyline clip-path=\"url(#clip872)\" style=\"stroke:#000000; stroke-linecap:butt; stroke-linejoin:round; stroke-width:2; stroke-opacity:0.1; fill:none\" points=\"\n",
       "  1755.7,1486.45 1755.7,47.2441 \n",
       "  \"/>\n",
       "<polyline clip-path=\"url(#clip872)\" style=\"stroke:#000000; stroke-linecap:butt; stroke-linejoin:round; stroke-width:2; stroke-opacity:0.1; fill:none\" points=\"\n",
       "  2291.66,1486.45 2291.66,47.2441 \n",
       "  \"/>\n",
       "<polyline clip-path=\"url(#clip870)\" style=\"stroke:#000000; stroke-linecap:butt; stroke-linejoin:round; stroke-width:4; stroke-opacity:1; fill:none\" points=\"\n",
       "  193.936,1486.45 2352.76,1486.45 \n",
       "  \"/>\n",
       "<polyline clip-path=\"url(#clip870)\" style=\"stroke:#000000; stroke-linecap:butt; stroke-linejoin:round; stroke-width:4; stroke-opacity:1; fill:none\" points=\"\n",
       "  683.797,1486.45 683.797,1467.55 \n",
       "  \"/>\n",
       "<polyline clip-path=\"url(#clip870)\" style=\"stroke:#000000; stroke-linecap:butt; stroke-linejoin:round; stroke-width:4; stroke-opacity:1; fill:none\" points=\"\n",
       "  1219.75,1486.45 1219.75,1467.55 \n",
       "  \"/>\n",
       "<polyline clip-path=\"url(#clip870)\" style=\"stroke:#000000; stroke-linecap:butt; stroke-linejoin:round; stroke-width:4; stroke-opacity:1; fill:none\" points=\"\n",
       "  1755.7,1486.45 1755.7,1467.55 \n",
       "  \"/>\n",
       "<polyline clip-path=\"url(#clip870)\" style=\"stroke:#000000; stroke-linecap:butt; stroke-linejoin:round; stroke-width:4; stroke-opacity:1; fill:none\" points=\"\n",
       "  2291.66,1486.45 2291.66,1467.55 \n",
       "  \"/>\n",
       "<path clip-path=\"url(#clip870)\" d=\"M674.075 1512.56 L692.432 1512.56 L692.432 1516.5 L678.358 1516.5 L678.358 1524.97 Q679.376 1524.62 680.395 1524.46 Q681.413 1524.27 682.432 1524.27 Q688.219 1524.27 691.598 1527.44 Q694.978 1530.62 694.978 1536.03 Q694.978 1541.61 691.506 1544.71 Q688.033 1547.79 681.714 1547.79 Q679.538 1547.79 677.27 1547.42 Q675.024 1547.05 672.617 1546.31 L672.617 1541.61 Q674.7 1542.74 676.922 1543.3 Q679.145 1543.86 681.621 1543.86 Q685.626 1543.86 687.964 1541.75 Q690.302 1539.64 690.302 1536.03 Q690.302 1532.42 687.964 1530.31 Q685.626 1528.21 681.621 1528.21 Q679.746 1528.21 677.871 1528.62 Q676.02 1529.04 674.075 1529.92 L674.075 1512.56 Z\" fill=\"#000000\" fill-rule=\"evenodd\" fill-opacity=\"1\" /><path clip-path=\"url(#clip870)\" d=\"M1194.44 1543.18 L1202.08 1543.18 L1202.08 1516.82 L1193.77 1518.49 L1193.77 1514.23 L1202.03 1512.56 L1206.71 1512.56 L1206.71 1543.18 L1214.35 1543.18 L1214.35 1547.12 L1194.44 1547.12 L1194.44 1543.18 Z\" fill=\"#000000\" fill-rule=\"evenodd\" fill-opacity=\"1\" /><path clip-path=\"url(#clip870)\" d=\"M1233.79 1515.64 Q1230.18 1515.64 1228.35 1519.2 Q1226.54 1522.75 1226.54 1529.87 Q1226.54 1536.98 1228.35 1540.55 Q1230.18 1544.09 1233.79 1544.09 Q1237.42 1544.09 1239.23 1540.55 Q1241.06 1536.98 1241.06 1529.87 Q1241.06 1522.75 1239.23 1519.2 Q1237.42 1515.64 1233.79 1515.64 M1233.79 1511.93 Q1239.6 1511.93 1242.66 1516.54 Q1245.73 1521.12 1245.73 1529.87 Q1245.73 1538.6 1242.66 1543.21 Q1239.6 1547.79 1233.79 1547.79 Q1227.98 1547.79 1224.9 1543.21 Q1221.85 1538.6 1221.85 1529.87 Q1221.85 1521.12 1224.9 1516.54 Q1227.98 1511.93 1233.79 1511.93 Z\" fill=\"#000000\" fill-rule=\"evenodd\" fill-opacity=\"1\" /><path clip-path=\"url(#clip870)\" d=\"M1730.89 1543.18 L1738.53 1543.18 L1738.53 1516.82 L1730.22 1518.49 L1730.22 1514.23 L1738.48 1512.56 L1743.16 1512.56 L1743.16 1543.18 L1750.8 1543.18 L1750.8 1547.12 L1730.89 1547.12 L1730.89 1543.18 Z\" fill=\"#000000\" fill-rule=\"evenodd\" fill-opacity=\"1\" /><path clip-path=\"url(#clip870)\" d=\"M1760.29 1512.56 L1778.64 1512.56 L1778.64 1516.5 L1764.57 1516.5 L1764.57 1524.97 Q1765.59 1524.62 1766.61 1524.46 Q1767.63 1524.27 1768.64 1524.27 Q1774.43 1524.27 1777.81 1527.44 Q1781.19 1530.62 1781.19 1536.03 Q1781.19 1541.61 1777.72 1544.71 Q1774.25 1547.79 1767.93 1547.79 Q1765.75 1547.79 1763.48 1547.42 Q1761.24 1547.05 1758.83 1546.31 L1758.83 1541.61 Q1760.91 1542.74 1763.13 1543.3 Q1765.36 1543.86 1767.83 1543.86 Q1771.84 1543.86 1774.18 1541.75 Q1776.51 1539.64 1776.51 1536.03 Q1776.51 1532.42 1774.18 1530.31 Q1771.84 1528.21 1767.83 1528.21 Q1765.96 1528.21 1764.08 1528.62 Q1762.23 1529.04 1760.29 1529.92 L1760.29 1512.56 Z\" fill=\"#000000\" fill-rule=\"evenodd\" fill-opacity=\"1\" /><path clip-path=\"url(#clip870)\" d=\"M2270.43 1543.18 L2286.75 1543.18 L2286.75 1547.12 L2264.81 1547.12 L2264.81 1543.18 Q2267.47 1540.43 2272.05 1535.8 Q2276.66 1531.15 2277.84 1529.81 Q2280.08 1527.28 2280.96 1525.55 Q2281.87 1523.79 2281.87 1522.1 Q2281.87 1519.34 2279.92 1517.61 Q2278 1515.87 2274.9 1515.87 Q2272.7 1515.87 2270.25 1516.63 Q2267.81 1517.4 2265.04 1518.95 L2265.04 1514.23 Q2267.86 1513.09 2270.31 1512.51 Q2272.77 1511.93 2274.81 1511.93 Q2280.18 1511.93 2283.37 1514.62 Q2286.56 1517.31 2286.56 1521.8 Q2286.56 1523.93 2285.75 1525.85 Q2284.97 1527.74 2282.86 1530.34 Q2282.28 1531.01 2279.18 1534.23 Q2276.08 1537.42 2270.43 1543.18 Z\" fill=\"#000000\" fill-rule=\"evenodd\" fill-opacity=\"1\" /><path clip-path=\"url(#clip870)\" d=\"M2306.56 1515.64 Q2302.95 1515.64 2301.12 1519.2 Q2299.32 1522.75 2299.32 1529.87 Q2299.32 1536.98 2301.12 1540.55 Q2302.95 1544.09 2306.56 1544.09 Q2310.2 1544.09 2312 1540.55 Q2313.83 1536.98 2313.83 1529.87 Q2313.83 1522.75 2312 1519.2 Q2310.2 1515.64 2306.56 1515.64 M2306.56 1511.93 Q2312.37 1511.93 2315.43 1516.54 Q2318.51 1521.12 2318.51 1529.87 Q2318.51 1538.6 2315.43 1543.21 Q2312.37 1547.79 2306.56 1547.79 Q2300.75 1547.79 2297.68 1543.21 Q2294.62 1538.6 2294.62 1529.87 Q2294.62 1521.12 2297.68 1516.54 Q2300.75 1511.93 2306.56 1511.93 Z\" fill=\"#000000\" fill-rule=\"evenodd\" fill-opacity=\"1\" /><polyline clip-path=\"url(#clip872)\" style=\"stroke:#000000; stroke-linecap:butt; stroke-linejoin:round; stroke-width:2; stroke-opacity:0.1; fill:none\" points=\"\n",
       "  193.936,1445.72 2352.76,1445.72 \n",
       "  \"/>\n",
       "<polyline clip-path=\"url(#clip872)\" style=\"stroke:#000000; stroke-linecap:butt; stroke-linejoin:round; stroke-width:2; stroke-opacity:0.1; fill:none\" points=\"\n",
       "  193.936,1104.68 2352.76,1104.68 \n",
       "  \"/>\n",
       "<polyline clip-path=\"url(#clip872)\" style=\"stroke:#000000; stroke-linecap:butt; stroke-linejoin:round; stroke-width:2; stroke-opacity:0.1; fill:none\" points=\"\n",
       "  193.936,763.646 2352.76,763.646 \n",
       "  \"/>\n",
       "<polyline clip-path=\"url(#clip872)\" style=\"stroke:#000000; stroke-linecap:butt; stroke-linejoin:round; stroke-width:2; stroke-opacity:0.1; fill:none\" points=\"\n",
       "  193.936,422.608 2352.76,422.608 \n",
       "  \"/>\n",
       "<polyline clip-path=\"url(#clip872)\" style=\"stroke:#000000; stroke-linecap:butt; stroke-linejoin:round; stroke-width:2; stroke-opacity:0.1; fill:none\" points=\"\n",
       "  193.936,81.5698 2352.76,81.5698 \n",
       "  \"/>\n",
       "<polyline clip-path=\"url(#clip870)\" style=\"stroke:#000000; stroke-linecap:butt; stroke-linejoin:round; stroke-width:4; stroke-opacity:1; fill:none\" points=\"\n",
       "  193.936,1486.45 193.936,47.2441 \n",
       "  \"/>\n",
       "<polyline clip-path=\"url(#clip870)\" style=\"stroke:#000000; stroke-linecap:butt; stroke-linejoin:round; stroke-width:4; stroke-opacity:1; fill:none\" points=\"\n",
       "  193.936,1445.72 212.834,1445.72 \n",
       "  \"/>\n",
       "<polyline clip-path=\"url(#clip870)\" style=\"stroke:#000000; stroke-linecap:butt; stroke-linejoin:round; stroke-width:4; stroke-opacity:1; fill:none\" points=\"\n",
       "  193.936,1104.68 212.834,1104.68 \n",
       "  \"/>\n",
       "<polyline clip-path=\"url(#clip870)\" style=\"stroke:#000000; stroke-linecap:butt; stroke-linejoin:round; stroke-width:4; stroke-opacity:1; fill:none\" points=\"\n",
       "  193.936,763.646 212.834,763.646 \n",
       "  \"/>\n",
       "<polyline clip-path=\"url(#clip870)\" style=\"stroke:#000000; stroke-linecap:butt; stroke-linejoin:round; stroke-width:4; stroke-opacity:1; fill:none\" points=\"\n",
       "  193.936,422.608 212.834,422.608 \n",
       "  \"/>\n",
       "<polyline clip-path=\"url(#clip870)\" style=\"stroke:#000000; stroke-linecap:butt; stroke-linejoin:round; stroke-width:4; stroke-opacity:1; fill:none\" points=\"\n",
       "  193.936,81.5698 212.834,81.5698 \n",
       "  \"/>\n",
       "<path clip-path=\"url(#clip870)\" d=\"M50.9921 1446.17 L80.6679 1446.17 L80.6679 1450.11 L50.9921 1450.11 L50.9921 1446.17 Z\" fill=\"#000000\" fill-rule=\"evenodd\" fill-opacity=\"1\" /><path clip-path=\"url(#clip870)\" d=\"M91.5706 1459.07 L99.2095 1459.07 L99.2095 1432.7 L90.8993 1434.37 L90.8993 1430.11 L99.1632 1428.44 L103.839 1428.44 L103.839 1459.07 L111.478 1459.07 L111.478 1463 L91.5706 1463 L91.5706 1459.07 Z\" fill=\"#000000\" fill-rule=\"evenodd\" fill-opacity=\"1\" /><path clip-path=\"url(#clip870)\" d=\"M120.922 1457.12 L125.807 1457.12 L125.807 1463 L120.922 1463 L120.922 1457.12 Z\" fill=\"#000000\" fill-rule=\"evenodd\" fill-opacity=\"1\" /><path clip-path=\"url(#clip870)\" d=\"M145.992 1431.52 Q142.381 1431.52 140.552 1435.09 Q138.746 1438.63 138.746 1445.76 Q138.746 1452.86 140.552 1456.43 Q142.381 1459.97 145.992 1459.97 Q149.626 1459.97 151.431 1456.43 Q153.26 1452.86 153.26 1445.76 Q153.26 1438.63 151.431 1435.09 Q149.626 1431.52 145.992 1431.52 M145.992 1427.82 Q151.802 1427.82 154.857 1432.42 Q157.936 1437.01 157.936 1445.76 Q157.936 1454.48 154.857 1459.09 Q151.802 1463.67 145.992 1463.67 Q140.181 1463.67 137.103 1459.09 Q134.047 1454.48 134.047 1445.76 Q134.047 1437.01 137.103 1432.42 Q140.181 1427.82 145.992 1427.82 Z\" fill=\"#000000\" fill-rule=\"evenodd\" fill-opacity=\"1\" /><path clip-path=\"url(#clip870)\" d=\"M51.9875 1105.14 L81.6633 1105.14 L81.6633 1109.07 L51.9875 1109.07 L51.9875 1105.14 Z\" fill=\"#000000\" fill-rule=\"evenodd\" fill-opacity=\"1\" /><path clip-path=\"url(#clip870)\" d=\"M101.756 1090.48 Q98.1447 1090.48 96.316 1094.05 Q94.5104 1097.59 94.5104 1104.72 Q94.5104 1111.83 96.316 1115.39 Q98.1447 1118.93 101.756 1118.93 Q105.39 1118.93 107.196 1115.39 Q109.024 1111.83 109.024 1104.72 Q109.024 1097.59 107.196 1094.05 Q105.39 1090.48 101.756 1090.48 M101.756 1086.78 Q107.566 1086.78 110.621 1091.39 Q113.7 1095.97 113.7 1104.72 Q113.7 1113.45 110.621 1118.05 Q107.566 1122.64 101.756 1122.64 Q95.9456 1122.64 92.8669 1118.05 Q89.8114 1113.45 89.8114 1104.72 Q89.8114 1095.97 92.8669 1091.39 Q95.9456 1086.78 101.756 1086.78 Z\" fill=\"#000000\" fill-rule=\"evenodd\" fill-opacity=\"1\" /><path clip-path=\"url(#clip870)\" d=\"M121.918 1116.08 L126.802 1116.08 L126.802 1121.96 L121.918 1121.96 L121.918 1116.08 Z\" fill=\"#000000\" fill-rule=\"evenodd\" fill-opacity=\"1\" /><path clip-path=\"url(#clip870)\" d=\"M137.033 1087.4 L155.39 1087.4 L155.39 1091.34 L141.316 1091.34 L141.316 1099.81 Q142.334 1099.46 143.353 1099.3 Q144.371 1099.12 145.39 1099.12 Q151.177 1099.12 154.556 1102.29 Q157.936 1105.46 157.936 1110.88 Q157.936 1116.45 154.464 1119.56 Q150.992 1122.64 144.672 1122.64 Q142.496 1122.64 140.228 1122.27 Q137.982 1121.89 135.575 1121.15 L135.575 1116.45 Q137.658 1117.59 139.881 1118.14 Q142.103 1118.7 144.58 1118.7 Q148.584 1118.7 150.922 1116.59 Q153.26 1114.49 153.26 1110.88 Q153.26 1107.27 150.922 1105.16 Q148.584 1103.05 144.58 1103.05 Q142.705 1103.05 140.83 1103.47 Q138.978 1103.89 137.033 1104.77 L137.033 1087.4 Z\" fill=\"#000000\" fill-rule=\"evenodd\" fill-opacity=\"1\" /><path clip-path=\"url(#clip870)\" d=\"M100.76 749.445 Q97.1493 749.445 95.3206 753.01 Q93.515 756.551 93.515 763.681 Q93.515 770.787 95.3206 774.352 Q97.1493 777.894 100.76 777.894 Q104.395 777.894 106.2 774.352 Q108.029 770.787 108.029 763.681 Q108.029 756.551 106.2 753.01 Q104.395 749.445 100.76 749.445 M100.76 745.741 Q106.571 745.741 109.626 750.348 Q112.705 754.931 112.705 763.681 Q112.705 772.408 109.626 777.014 Q106.571 781.597 100.76 781.597 Q94.9502 781.597 91.8715 777.014 Q88.816 772.408 88.816 763.681 Q88.816 754.931 91.8715 750.348 Q94.9502 745.741 100.76 745.741 Z\" fill=\"#000000\" fill-rule=\"evenodd\" fill-opacity=\"1\" /><path clip-path=\"url(#clip870)\" d=\"M120.922 775.046 L125.807 775.046 L125.807 780.926 L120.922 780.926 L120.922 775.046 Z\" fill=\"#000000\" fill-rule=\"evenodd\" fill-opacity=\"1\" /><path clip-path=\"url(#clip870)\" d=\"M145.992 749.445 Q142.381 749.445 140.552 753.01 Q138.746 756.551 138.746 763.681 Q138.746 770.787 140.552 774.352 Q142.381 777.894 145.992 777.894 Q149.626 777.894 151.431 774.352 Q153.26 770.787 153.26 763.681 Q153.26 756.551 151.431 753.01 Q149.626 749.445 145.992 749.445 M145.992 745.741 Q151.802 745.741 154.857 750.348 Q157.936 754.931 157.936 763.681 Q157.936 772.408 154.857 777.014 Q151.802 781.597 145.992 781.597 Q140.181 781.597 137.103 777.014 Q134.047 772.408 134.047 763.681 Q134.047 754.931 137.103 750.348 Q140.181 745.741 145.992 745.741 Z\" fill=\"#000000\" fill-rule=\"evenodd\" fill-opacity=\"1\" /><path clip-path=\"url(#clip870)\" d=\"M101.756 408.407 Q98.1447 408.407 96.316 411.971 Q94.5104 415.513 94.5104 422.643 Q94.5104 429.749 96.316 433.314 Q98.1447 436.856 101.756 436.856 Q105.39 436.856 107.196 433.314 Q109.024 429.749 109.024 422.643 Q109.024 415.513 107.196 411.971 Q105.39 408.407 101.756 408.407 M101.756 404.703 Q107.566 404.703 110.621 409.309 Q113.7 413.893 113.7 422.643 Q113.7 431.369 110.621 435.976 Q107.566 440.559 101.756 440.559 Q95.9456 440.559 92.8669 435.976 Q89.8114 431.369 89.8114 422.643 Q89.8114 413.893 92.8669 409.309 Q95.9456 404.703 101.756 404.703 Z\" fill=\"#000000\" fill-rule=\"evenodd\" fill-opacity=\"1\" /><path clip-path=\"url(#clip870)\" d=\"M121.918 434.008 L126.802 434.008 L126.802 439.888 L121.918 439.888 L121.918 434.008 Z\" fill=\"#000000\" fill-rule=\"evenodd\" fill-opacity=\"1\" /><path clip-path=\"url(#clip870)\" d=\"M137.033 405.328 L155.39 405.328 L155.39 409.263 L141.316 409.263 L141.316 417.735 Q142.334 417.388 143.353 417.226 Q144.371 417.041 145.39 417.041 Q151.177 417.041 154.556 420.212 Q157.936 423.383 157.936 428.8 Q157.936 434.379 154.464 437.481 Q150.992 440.559 144.672 440.559 Q142.496 440.559 140.228 440.189 Q137.982 439.818 135.575 439.078 L135.575 434.379 Q137.658 435.513 139.881 436.069 Q142.103 436.624 144.58 436.624 Q148.584 436.624 150.922 434.518 Q153.26 432.411 153.26 428.8 Q153.26 425.189 150.922 423.082 Q148.584 420.976 144.58 420.976 Q142.705 420.976 140.83 421.393 Q138.978 421.809 137.033 422.689 L137.033 405.328 Z\" fill=\"#000000\" fill-rule=\"evenodd\" fill-opacity=\"1\" /><path clip-path=\"url(#clip870)\" d=\"M91.5706 94.9146 L99.2095 94.9146 L99.2095 68.549 L90.8993 70.2157 L90.8993 65.9564 L99.1632 64.2898 L103.839 64.2898 L103.839 94.9146 L111.478 94.9146 L111.478 98.8498 L91.5706 98.8498 L91.5706 94.9146 Z\" fill=\"#000000\" fill-rule=\"evenodd\" fill-opacity=\"1\" /><path clip-path=\"url(#clip870)\" d=\"M120.922 92.9702 L125.807 92.9702 L125.807 98.8498 L120.922 98.8498 L120.922 92.9702 Z\" fill=\"#000000\" fill-rule=\"evenodd\" fill-opacity=\"1\" /><path clip-path=\"url(#clip870)\" d=\"M145.992 67.3685 Q142.381 67.3685 140.552 70.9333 Q138.746 74.4749 138.746 81.6045 Q138.746 88.7109 140.552 92.2757 Q142.381 95.8174 145.992 95.8174 Q149.626 95.8174 151.431 92.2757 Q153.26 88.7109 153.26 81.6045 Q153.26 74.4749 151.431 70.9333 Q149.626 67.3685 145.992 67.3685 M145.992 63.6648 Q151.802 63.6648 154.857 68.2712 Q157.936 72.8545 157.936 81.6045 Q157.936 90.3313 154.857 94.9378 Q151.802 99.5211 145.992 99.5211 Q140.181 99.5211 137.103 94.9378 Q134.047 90.3313 134.047 81.6045 Q134.047 72.8545 137.103 68.2712 Q140.181 63.6648 145.992 63.6648 Z\" fill=\"#000000\" fill-rule=\"evenodd\" fill-opacity=\"1\" /><polyline clip-path=\"url(#clip872)\" style=\"stroke:#009af9; stroke-linecap:butt; stroke-linejoin:round; stroke-width:4; stroke-opacity:1; fill:none\" points=\"\n",
       "  255.035,189.699 362.225,143.436 469.416,667.391 576.607,1279.84 683.797,1417.71 790.988,954.229 898.179,315.531 1005.37,88.8283 1112.56,482.55 1219.75,1134.71 \n",
       "  1326.94,1445.72 1434.13,1129.63 1541.32,477.06 1648.51,87.9763 1755.7,320.1 1862.89,960.018 1970.09,1419.39 2077.28,1275.88 2184.47,661.418 2291.66,140.948 \n",
       "  \n",
       "  \"/>\n",
       "<path clip-path=\"url(#clip870)\" d=\"\n",
       "M1988.5 198.898 L2280.8 198.898 L2280.8 95.2176 L1988.5 95.2176  Z\n",
       "  \" fill=\"#ffffff\" fill-rule=\"evenodd\" fill-opacity=\"1\"/>\n",
       "<polyline clip-path=\"url(#clip870)\" style=\"stroke:#000000; stroke-linecap:butt; stroke-linejoin:round; stroke-width:4; stroke-opacity:1; fill:none\" points=\"\n",
       "  1988.5,198.898 2280.8,198.898 2280.8,95.2176 1988.5,95.2176 1988.5,198.898 \n",
       "  \"/>\n",
       "<polyline clip-path=\"url(#clip870)\" style=\"stroke:#009af9; stroke-linecap:butt; stroke-linejoin:round; stroke-width:4; stroke-opacity:1; fill:none\" points=\"\n",
       "  2012.48,147.058 2156.4,147.058 \n",
       "  \"/>\n",
       "<path clip-path=\"url(#clip870)\" d=\"M2194.23 166.745 Q2192.43 171.375 2190.72 172.787 Q2189 174.199 2186.13 174.199 L2182.73 174.199 L2182.73 170.634 L2185.23 170.634 Q2186.99 170.634 2187.96 169.8 Q2188.93 168.967 2190.11 165.865 L2190.88 163.921 L2180.39 138.412 L2184.91 138.412 L2193.01 158.689 L2201.11 138.412 L2205.62 138.412 L2194.23 166.745 Z\" fill=\"#000000\" fill-rule=\"evenodd\" fill-opacity=\"1\" /><path clip-path=\"url(#clip870)\" d=\"M2212.91 160.402 L2220.55 160.402 L2220.55 134.037 L2212.24 135.703 L2212.24 131.444 L2220.51 129.778 L2225.18 129.778 L2225.18 160.402 L2232.82 160.402 L2232.82 164.338 L2212.91 164.338 L2212.91 160.402 Z\" fill=\"#000000\" fill-rule=\"evenodd\" fill-opacity=\"1\" /></svg>\n"
      ]
     },
     "execution_count": 37,
     "metadata": {},
     "output_type": "execute_result"
    }
   ],
   "source": [
    "plot(x,u)"
   ]
  },
  {
   "cell_type": "code",
   "execution_count": 38,
   "id": "32fed2d4",
   "metadata": {},
   "outputs": [
    {
     "ename": "LoadError",
     "evalue": "MethodError: no method matching sin(::Vector{Int64})\n\u001b[0mClosest candidates are:\n\u001b[0m  sin(\u001b[91m::Float16\u001b[39m) at math.jl:1159\n\u001b[0m  sin(\u001b[91m::ComplexF16\u001b[39m) at math.jl:1160\n\u001b[0m  sin(\u001b[91m::Complex{T}\u001b[39m) where T at complex.jl:831\n\u001b[0m  ...",
     "output_type": "error",
     "traceback": [
      "MethodError: no method matching sin(::Vector{Int64})\n\u001b[0mClosest candidates are:\n\u001b[0m  sin(\u001b[91m::Float16\u001b[39m) at math.jl:1159\n\u001b[0m  sin(\u001b[91m::ComplexF16\u001b[39m) at math.jl:1160\n\u001b[0m  sin(\u001b[91m::Complex{T}\u001b[39m) where T at complex.jl:831\n\u001b[0m  ...",
      "",
      "Stacktrace:",
      " [1] u(t::Vector{Int64})",
      "   @ Main ./In[35]:1",
      " [2] top-level scope",
      "   @ In[38]:1",
      " [3] eval",
      "   @ ./boot.jl:360 [inlined]",
      " [4] include_string(mapexpr::typeof(REPL.softscope), mod::Module, code::String, filename::String)",
      "   @ Base ./loading.jl:1116"
     ]
    }
   ],
   "source": [
    "plot(x,u(x))"
   ]
  },
  {
   "cell_type": "code",
   "execution_count": 39,
   "id": "d5111f08",
   "metadata": {},
   "outputs": [
    {
     "ename": "LoadError",
     "evalue": "MethodError: no method matching sin(::UnitRange{Int64})\n\u001b[0mClosest candidates are:\n\u001b[0m  sin(\u001b[91m::Float16\u001b[39m) at math.jl:1159\n\u001b[0m  sin(\u001b[91m::ComplexF16\u001b[39m) at math.jl:1160\n\u001b[0m  sin(\u001b[91m::Complex{T}\u001b[39m) where T at complex.jl:831\n\u001b[0m  ...",
     "output_type": "error",
     "traceback": [
      "MethodError: no method matching sin(::UnitRange{Int64})\n\u001b[0mClosest candidates are:\n\u001b[0m  sin(\u001b[91m::Float16\u001b[39m) at math.jl:1159\n\u001b[0m  sin(\u001b[91m::ComplexF16\u001b[39m) at math.jl:1160\n\u001b[0m  sin(\u001b[91m::Complex{T}\u001b[39m) where T at complex.jl:831\n\u001b[0m  ...",
      "",
      "Stacktrace:",
      " [1] u(t::UnitRange{Int64})",
      "   @ Main ./In[35]:1",
      " [2] top-level scope",
      "   @ In[39]:1",
      " [3] eval",
      "   @ ./boot.jl:360 [inlined]",
      " [4] include_string(mapexpr::typeof(REPL.softscope), mod::Module, code::String, filename::String)",
      "   @ Base ./loading.jl:1116"
     ]
    }
   ],
   "source": [
    "plot(x,u(y))"
   ]
  },
  {
   "cell_type": "code",
   "execution_count": 45,
   "id": "9164ae05",
   "metadata": {},
   "outputs": [
    {
     "ename": "LoadError",
     "evalue": "MethodError: no method matching +(::Vector{Int64}, ::Int64)\nFor element-wise addition, use broadcasting with dot syntax: array .+ scalar\n\u001b[0mClosest candidates are:\n\u001b[0m  +(::Any, ::Any, \u001b[91m::Any\u001b[39m, \u001b[91m::Any...\u001b[39m) at operators.jl:560\n\u001b[0m  +(\u001b[91m::T\u001b[39m, ::T) where T<:Union{Int128, Int16, Int32, Int64, Int8, UInt128, UInt16, UInt32, UInt64, UInt8} at int.jl:87\n\u001b[0m  +(\u001b[91m::Rational\u001b[39m, ::Integer) at rational.jl:289\n\u001b[0m  ...",
     "output_type": "error",
     "traceback": [
      "MethodError: no method matching +(::Vector{Int64}, ::Int64)\nFor element-wise addition, use broadcasting with dot syntax: array .+ scalar\n\u001b[0mClosest candidates are:\n\u001b[0m  +(::Any, ::Any, \u001b[91m::Any\u001b[39m, \u001b[91m::Any...\u001b[39m) at operators.jl:560\n\u001b[0m  +(\u001b[91m::T\u001b[39m, ::T) where T<:Union{Int128, Int16, Int32, Int64, Int8, UInt128, UInt16, UInt32, UInt64, UInt8} at int.jl:87\n\u001b[0m  +(\u001b[91m::Rational\u001b[39m, ::Integer) at rational.jl:289\n\u001b[0m  ...",
      "",
      "Stacktrace:",
      " [1] top-level scope",
      "   @ In[45]:1",
      " [2] eval",
      "   @ ./boot.jl:360 [inlined]",
      " [3] include_string(mapexpr::typeof(REPL.softscope), mod::Module, code::String, filename::String)",
      "   @ Base ./loading.jl:1116"
     ]
    }
   ],
   "source": [
    "plot("
   ]
  },
  {
   "cell_type": "markdown",
   "id": "31741f16",
   "metadata": {},
   "source": [
    "# Title\n",
    "## Markdown cell\n",
    "\n",
    "* Word\n",
    "\n",
    "$ \\alpha(t) \\quad \\Omega$\n",
    "\n",
    "* Latex  (lateC)"
   ]
  },
  {
   "cell_type": "markdown",
   "id": "8ae23a2d",
   "metadata": {},
   "source": [
    "`git clone https://github.com/djpasseyjr/ShinePDMP.git`\n",
    "\n",
    "```\n",
    "block text\n",
    "```"
   ]
  },
  {
   "cell_type": "markdown",
   "id": "aaaab5ac",
   "metadata": {},
   "source": [
    "`git add (modified file)`\n",
    "\n",
    "`git commit -m \"commitmessage\"`\n",
    "\n",
    "`git push`"
   ]
  },
  {
   "cell_type": "code",
   "execution_count": 47,
   "id": "178e89d7",
   "metadata": {},
   "outputs": [],
   "source": [
    "struct IceCream\n",
    "    flavor::String\n",
    "end"
   ]
  },
  {
   "cell_type": "code",
   "execution_count": 49,
   "id": "4896ade9",
   "metadata": {},
   "outputs": [
    {
     "data": {
      "text/plain": [
       "IceCream(\"Vanilla\")"
      ]
     },
     "execution_count": 49,
     "metadata": {},
     "output_type": "execute_result"
    }
   ],
   "source": [
    "va = IceCream(\"Vanilla\")"
   ]
  },
  {
   "cell_type": "code",
   "execution_count": 50,
   "id": "d496722b",
   "metadata": {},
   "outputs": [
    {
     "data": {
      "text/plain": [
       "IceCream(\"Vanilla\")"
      ]
     },
     "execution_count": 50,
     "metadata": {},
     "output_type": "execute_result"
    }
   ],
   "source": [
    "va"
   ]
  },
  {
   "cell_type": "code",
   "execution_count": 51,
   "id": "ac608eb2",
   "metadata": {},
   "outputs": [],
   "source": [
    "function Base.show(io::IO,ic::IceCream)\n",
    "    print(io,\"The flavor is $(ic.flavor)\")\n",
    "end"
   ]
  },
  {
   "cell_type": "markdown",
   "id": "c51afa8e",
   "metadata": {},
   "source": [
    "* $ = splice"
   ]
  },
  {
   "cell_type": "code",
   "execution_count": 52,
   "id": "86bfe86f",
   "metadata": {},
   "outputs": [
    {
     "data": {
      "text/plain": [
       "The flavor is Vanilla"
      ]
     },
     "execution_count": 52,
     "metadata": {},
     "output_type": "execute_result"
    }
   ],
   "source": [
    "va"
   ]
  },
  {
   "cell_type": "code",
   "execution_count": null,
   "id": "c46173dc",
   "metadata": {},
   "outputs": [],
   "source": []
  }
 ],
 "metadata": {
  "kernelspec": {
   "display_name": "Julia 1.6.2",
   "language": "julia",
   "name": "julia-1.6"
  },
  "language_info": {
   "file_extension": ".jl",
   "mimetype": "application/julia",
   "name": "julia",
   "version": "1.6.2"
  }
 },
 "nbformat": 4,
 "nbformat_minor": 5
}
